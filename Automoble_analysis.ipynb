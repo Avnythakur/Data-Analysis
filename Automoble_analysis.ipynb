{
 "cells": [
  {
   "cell_type": "code",
   "execution_count": 6,
   "id": "e40c130f",
   "metadata": {},
   "outputs": [],
   "source": [
    "#!pip install scikit-learn"
   ]
  },
  {
   "cell_type": "code",
   "execution_count": 20,
   "id": "6feb1e16",
   "metadata": {},
   "outputs": [],
   "source": [
    "import pandas as pd\n",
    "import numpy as np\n",
    "import matplotlib.pylab as plt\n",
    "%matplotlib inline\n",
    "import matplotlib as plt\n",
    "from matplotlib import pyplot"
   ]
  },
  {
   "cell_type": "code",
   "execution_count": 21,
   "id": "42272ae9",
   "metadata": {},
   "outputs": [],
   "source": [
    "path = \"https://cf-courses-data.s3.us.cloud-object-storage.appdomain.cloud/IBMDeveloperSkillsNetwork-DA0101EN-SkillsNetwork/labs/Data%20files/automobileEDA.csv\""
   ]
  },
  {
   "cell_type": "code",
   "execution_count": 22,
   "id": "43f3ea3f",
   "metadata": {},
   "outputs": [],
   "source": [
    "df = pd.read_csv(path, header=None)"
   ]
  },
  {
   "cell_type": "code",
   "execution_count": 23,
   "id": "25949448",
   "metadata": {},
   "outputs": [
    {
     "data": {
      "text/html": [
       "<div>\n",
       "<style scoped>\n",
       "    .dataframe tbody tr th:only-of-type {\n",
       "        vertical-align: middle;\n",
       "    }\n",
       "\n",
       "    .dataframe tbody tr th {\n",
       "        vertical-align: top;\n",
       "    }\n",
       "\n",
       "    .dataframe thead th {\n",
       "        text-align: right;\n",
       "    }\n",
       "</style>\n",
       "<table border=\"1\" class=\"dataframe\">\n",
       "  <thead>\n",
       "    <tr style=\"text-align: right;\">\n",
       "      <th></th>\n",
       "      <th>0</th>\n",
       "      <th>1</th>\n",
       "      <th>2</th>\n",
       "      <th>3</th>\n",
       "      <th>4</th>\n",
       "      <th>5</th>\n",
       "      <th>6</th>\n",
       "      <th>7</th>\n",
       "      <th>8</th>\n",
       "      <th>9</th>\n",
       "      <th>...</th>\n",
       "      <th>19</th>\n",
       "      <th>20</th>\n",
       "      <th>21</th>\n",
       "      <th>22</th>\n",
       "      <th>23</th>\n",
       "      <th>24</th>\n",
       "      <th>25</th>\n",
       "      <th>26</th>\n",
       "      <th>27</th>\n",
       "      <th>28</th>\n",
       "    </tr>\n",
       "  </thead>\n",
       "  <tbody>\n",
       "    <tr>\n",
       "      <th>0</th>\n",
       "      <td>symboling</td>\n",
       "      <td>normalized-losses</td>\n",
       "      <td>make</td>\n",
       "      <td>aspiration</td>\n",
       "      <td>num-of-doors</td>\n",
       "      <td>body-style</td>\n",
       "      <td>drive-wheels</td>\n",
       "      <td>engine-location</td>\n",
       "      <td>wheel-base</td>\n",
       "      <td>length</td>\n",
       "      <td>...</td>\n",
       "      <td>compression-ratio</td>\n",
       "      <td>horsepower</td>\n",
       "      <td>peak-rpm</td>\n",
       "      <td>city-mpg</td>\n",
       "      <td>highway-mpg</td>\n",
       "      <td>price</td>\n",
       "      <td>city-L/100km</td>\n",
       "      <td>horsepower-binned</td>\n",
       "      <td>diesel</td>\n",
       "      <td>gas</td>\n",
       "    </tr>\n",
       "    <tr>\n",
       "      <th>1</th>\n",
       "      <td>3</td>\n",
       "      <td>122</td>\n",
       "      <td>alfa-romero</td>\n",
       "      <td>std</td>\n",
       "      <td>two</td>\n",
       "      <td>convertible</td>\n",
       "      <td>rwd</td>\n",
       "      <td>front</td>\n",
       "      <td>88.6</td>\n",
       "      <td>0.8111484863046613</td>\n",
       "      <td>...</td>\n",
       "      <td>9.0</td>\n",
       "      <td>111.0</td>\n",
       "      <td>5000.0</td>\n",
       "      <td>21</td>\n",
       "      <td>27</td>\n",
       "      <td>13495.0</td>\n",
       "      <td>11.190476190476188</td>\n",
       "      <td>Medium</td>\n",
       "      <td>0</td>\n",
       "      <td>1</td>\n",
       "    </tr>\n",
       "    <tr>\n",
       "      <th>2</th>\n",
       "      <td>3</td>\n",
       "      <td>122</td>\n",
       "      <td>alfa-romero</td>\n",
       "      <td>std</td>\n",
       "      <td>two</td>\n",
       "      <td>convertible</td>\n",
       "      <td>rwd</td>\n",
       "      <td>front</td>\n",
       "      <td>88.6</td>\n",
       "      <td>0.8111484863046613</td>\n",
       "      <td>...</td>\n",
       "      <td>9.0</td>\n",
       "      <td>111.0</td>\n",
       "      <td>5000.0</td>\n",
       "      <td>21</td>\n",
       "      <td>27</td>\n",
       "      <td>16500.0</td>\n",
       "      <td>11.190476190476188</td>\n",
       "      <td>Medium</td>\n",
       "      <td>0</td>\n",
       "      <td>1</td>\n",
       "    </tr>\n",
       "    <tr>\n",
       "      <th>3</th>\n",
       "      <td>1</td>\n",
       "      <td>122</td>\n",
       "      <td>alfa-romero</td>\n",
       "      <td>std</td>\n",
       "      <td>two</td>\n",
       "      <td>hatchback</td>\n",
       "      <td>rwd</td>\n",
       "      <td>front</td>\n",
       "      <td>94.5</td>\n",
       "      <td>0.8226814031715521</td>\n",
       "      <td>...</td>\n",
       "      <td>9.0</td>\n",
       "      <td>154.0</td>\n",
       "      <td>5000.0</td>\n",
       "      <td>19</td>\n",
       "      <td>26</td>\n",
       "      <td>16500.0</td>\n",
       "      <td>12.36842105263158</td>\n",
       "      <td>Medium</td>\n",
       "      <td>0</td>\n",
       "      <td>1</td>\n",
       "    </tr>\n",
       "    <tr>\n",
       "      <th>4</th>\n",
       "      <td>2</td>\n",
       "      <td>164</td>\n",
       "      <td>audi</td>\n",
       "      <td>std</td>\n",
       "      <td>four</td>\n",
       "      <td>sedan</td>\n",
       "      <td>fwd</td>\n",
       "      <td>front</td>\n",
       "      <td>99.8</td>\n",
       "      <td>0.8486304661220567</td>\n",
       "      <td>...</td>\n",
       "      <td>10.0</td>\n",
       "      <td>102.0</td>\n",
       "      <td>5500.0</td>\n",
       "      <td>24</td>\n",
       "      <td>30</td>\n",
       "      <td>13950.0</td>\n",
       "      <td>9.791666666666666</td>\n",
       "      <td>Medium</td>\n",
       "      <td>0</td>\n",
       "      <td>1</td>\n",
       "    </tr>\n",
       "  </tbody>\n",
       "</table>\n",
       "<p>5 rows × 29 columns</p>\n",
       "</div>"
      ],
      "text/plain": [
       "          0                  1            2           3             4   \\\n",
       "0  symboling  normalized-losses         make  aspiration  num-of-doors   \n",
       "1          3                122  alfa-romero         std           two   \n",
       "2          3                122  alfa-romero         std           two   \n",
       "3          1                122  alfa-romero         std           two   \n",
       "4          2                164         audi         std          four   \n",
       "\n",
       "            5             6                7           8                   9   \\\n",
       "0   body-style  drive-wheels  engine-location  wheel-base              length   \n",
       "1  convertible           rwd            front        88.6  0.8111484863046613   \n",
       "2  convertible           rwd            front        88.6  0.8111484863046613   \n",
       "3    hatchback           rwd            front        94.5  0.8226814031715521   \n",
       "4        sedan           fwd            front        99.8  0.8486304661220567   \n",
       "\n",
       "   ...                 19          20        21        22           23  \\\n",
       "0  ...  compression-ratio  horsepower  peak-rpm  city-mpg  highway-mpg   \n",
       "1  ...                9.0       111.0    5000.0        21           27   \n",
       "2  ...                9.0       111.0    5000.0        21           27   \n",
       "3  ...                9.0       154.0    5000.0        19           26   \n",
       "4  ...               10.0       102.0    5500.0        24           30   \n",
       "\n",
       "        24                  25                 26      27   28  \n",
       "0    price        city-L/100km  horsepower-binned  diesel  gas  \n",
       "1  13495.0  11.190476190476188             Medium       0    1  \n",
       "2  16500.0  11.190476190476188             Medium       0    1  \n",
       "3  16500.0   12.36842105263158             Medium       0    1  \n",
       "4  13950.0   9.791666666666666             Medium       0    1  \n",
       "\n",
       "[5 rows x 29 columns]"
      ]
     },
     "execution_count": 23,
     "metadata": {},
     "output_type": "execute_result"
    }
   ],
   "source": [
    "df.head()"
   ]
  },
  {
   "cell_type": "code",
   "execution_count": 24,
   "id": "f13ef88d",
   "metadata": {},
   "outputs": [
    {
     "data": {
      "text/html": [
       "<div>\n",
       "<style scoped>\n",
       "    .dataframe tbody tr th:only-of-type {\n",
       "        vertical-align: middle;\n",
       "    }\n",
       "\n",
       "    .dataframe tbody tr th {\n",
       "        vertical-align: top;\n",
       "    }\n",
       "\n",
       "    .dataframe thead th {\n",
       "        text-align: right;\n",
       "    }\n",
       "</style>\n",
       "<table border=\"1\" class=\"dataframe\">\n",
       "  <thead>\n",
       "    <tr style=\"text-align: right;\">\n",
       "      <th></th>\n",
       "      <th>0</th>\n",
       "      <th>1</th>\n",
       "      <th>2</th>\n",
       "      <th>3</th>\n",
       "      <th>4</th>\n",
       "      <th>5</th>\n",
       "      <th>6</th>\n",
       "      <th>7</th>\n",
       "      <th>8</th>\n",
       "      <th>9</th>\n",
       "      <th>...</th>\n",
       "      <th>19</th>\n",
       "      <th>20</th>\n",
       "      <th>21</th>\n",
       "      <th>22</th>\n",
       "      <th>23</th>\n",
       "      <th>24</th>\n",
       "      <th>25</th>\n",
       "      <th>26</th>\n",
       "      <th>27</th>\n",
       "      <th>28</th>\n",
       "    </tr>\n",
       "  </thead>\n",
       "  <tbody>\n",
       "    <tr>\n",
       "      <th>192</th>\n",
       "      <td>-1</td>\n",
       "      <td>74</td>\n",
       "      <td>volvo</td>\n",
       "      <td>std</td>\n",
       "      <td>four</td>\n",
       "      <td>wagon</td>\n",
       "      <td>rwd</td>\n",
       "      <td>front</td>\n",
       "      <td>104.3</td>\n",
       "      <td>0.9072561268620856</td>\n",
       "      <td>...</td>\n",
       "      <td>9.5</td>\n",
       "      <td>114.0</td>\n",
       "      <td>5400.0</td>\n",
       "      <td>23</td>\n",
       "      <td>28</td>\n",
       "      <td>13415.0</td>\n",
       "      <td>10.217391304347826</td>\n",
       "      <td>Medium</td>\n",
       "      <td>0</td>\n",
       "      <td>1</td>\n",
       "    </tr>\n",
       "    <tr>\n",
       "      <th>193</th>\n",
       "      <td>-2</td>\n",
       "      <td>103</td>\n",
       "      <td>volvo</td>\n",
       "      <td>std</td>\n",
       "      <td>four</td>\n",
       "      <td>sedan</td>\n",
       "      <td>rwd</td>\n",
       "      <td>front</td>\n",
       "      <td>104.3</td>\n",
       "      <td>0.9072561268620856</td>\n",
       "      <td>...</td>\n",
       "      <td>9.5</td>\n",
       "      <td>114.0</td>\n",
       "      <td>5400.0</td>\n",
       "      <td>24</td>\n",
       "      <td>28</td>\n",
       "      <td>15985.0</td>\n",
       "      <td>9.791666666666666</td>\n",
       "      <td>Medium</td>\n",
       "      <td>0</td>\n",
       "      <td>1</td>\n",
       "    </tr>\n",
       "    <tr>\n",
       "      <th>194</th>\n",
       "      <td>-1</td>\n",
       "      <td>74</td>\n",
       "      <td>volvo</td>\n",
       "      <td>std</td>\n",
       "      <td>four</td>\n",
       "      <td>wagon</td>\n",
       "      <td>rwd</td>\n",
       "      <td>front</td>\n",
       "      <td>104.3</td>\n",
       "      <td>0.9072561268620856</td>\n",
       "      <td>...</td>\n",
       "      <td>9.5</td>\n",
       "      <td>114.0</td>\n",
       "      <td>5400.0</td>\n",
       "      <td>24</td>\n",
       "      <td>28</td>\n",
       "      <td>16515.0</td>\n",
       "      <td>9.791666666666666</td>\n",
       "      <td>Medium</td>\n",
       "      <td>0</td>\n",
       "      <td>1</td>\n",
       "    </tr>\n",
       "    <tr>\n",
       "      <th>195</th>\n",
       "      <td>-2</td>\n",
       "      <td>103</td>\n",
       "      <td>volvo</td>\n",
       "      <td>turbo</td>\n",
       "      <td>four</td>\n",
       "      <td>sedan</td>\n",
       "      <td>rwd</td>\n",
       "      <td>front</td>\n",
       "      <td>104.3</td>\n",
       "      <td>0.9072561268620856</td>\n",
       "      <td>...</td>\n",
       "      <td>7.5</td>\n",
       "      <td>162.0</td>\n",
       "      <td>5100.0</td>\n",
       "      <td>17</td>\n",
       "      <td>22</td>\n",
       "      <td>18420.0</td>\n",
       "      <td>13.823529411764708</td>\n",
       "      <td>High</td>\n",
       "      <td>0</td>\n",
       "      <td>1</td>\n",
       "    </tr>\n",
       "    <tr>\n",
       "      <th>196</th>\n",
       "      <td>-1</td>\n",
       "      <td>74</td>\n",
       "      <td>volvo</td>\n",
       "      <td>turbo</td>\n",
       "      <td>four</td>\n",
       "      <td>wagon</td>\n",
       "      <td>rwd</td>\n",
       "      <td>front</td>\n",
       "      <td>104.3</td>\n",
       "      <td>0.9072561268620856</td>\n",
       "      <td>...</td>\n",
       "      <td>7.5</td>\n",
       "      <td>162.0</td>\n",
       "      <td>5100.0</td>\n",
       "      <td>17</td>\n",
       "      <td>22</td>\n",
       "      <td>18950.0</td>\n",
       "      <td>13.823529411764708</td>\n",
       "      <td>High</td>\n",
       "      <td>0</td>\n",
       "      <td>1</td>\n",
       "    </tr>\n",
       "    <tr>\n",
       "      <th>197</th>\n",
       "      <td>-1</td>\n",
       "      <td>95</td>\n",
       "      <td>volvo</td>\n",
       "      <td>std</td>\n",
       "      <td>four</td>\n",
       "      <td>sedan</td>\n",
       "      <td>rwd</td>\n",
       "      <td>front</td>\n",
       "      <td>109.1</td>\n",
       "      <td>0.9072561268620856</td>\n",
       "      <td>...</td>\n",
       "      <td>9.5</td>\n",
       "      <td>114.0</td>\n",
       "      <td>5400.0</td>\n",
       "      <td>23</td>\n",
       "      <td>28</td>\n",
       "      <td>16845.0</td>\n",
       "      <td>10.217391304347826</td>\n",
       "      <td>Medium</td>\n",
       "      <td>0</td>\n",
       "      <td>1</td>\n",
       "    </tr>\n",
       "    <tr>\n",
       "      <th>198</th>\n",
       "      <td>-1</td>\n",
       "      <td>95</td>\n",
       "      <td>volvo</td>\n",
       "      <td>turbo</td>\n",
       "      <td>four</td>\n",
       "      <td>sedan</td>\n",
       "      <td>rwd</td>\n",
       "      <td>front</td>\n",
       "      <td>109.1</td>\n",
       "      <td>0.9072561268620856</td>\n",
       "      <td>...</td>\n",
       "      <td>8.7</td>\n",
       "      <td>160.0</td>\n",
       "      <td>5300.0</td>\n",
       "      <td>19</td>\n",
       "      <td>25</td>\n",
       "      <td>19045.0</td>\n",
       "      <td>12.36842105263158</td>\n",
       "      <td>High</td>\n",
       "      <td>0</td>\n",
       "      <td>1</td>\n",
       "    </tr>\n",
       "    <tr>\n",
       "      <th>199</th>\n",
       "      <td>-1</td>\n",
       "      <td>95</td>\n",
       "      <td>volvo</td>\n",
       "      <td>std</td>\n",
       "      <td>four</td>\n",
       "      <td>sedan</td>\n",
       "      <td>rwd</td>\n",
       "      <td>front</td>\n",
       "      <td>109.1</td>\n",
       "      <td>0.9072561268620856</td>\n",
       "      <td>...</td>\n",
       "      <td>8.8</td>\n",
       "      <td>134.0</td>\n",
       "      <td>5500.0</td>\n",
       "      <td>18</td>\n",
       "      <td>23</td>\n",
       "      <td>21485.0</td>\n",
       "      <td>13.055555555555555</td>\n",
       "      <td>Medium</td>\n",
       "      <td>0</td>\n",
       "      <td>1</td>\n",
       "    </tr>\n",
       "    <tr>\n",
       "      <th>200</th>\n",
       "      <td>-1</td>\n",
       "      <td>95</td>\n",
       "      <td>volvo</td>\n",
       "      <td>turbo</td>\n",
       "      <td>four</td>\n",
       "      <td>sedan</td>\n",
       "      <td>rwd</td>\n",
       "      <td>front</td>\n",
       "      <td>109.1</td>\n",
       "      <td>0.9072561268620856</td>\n",
       "      <td>...</td>\n",
       "      <td>23.0</td>\n",
       "      <td>106.0</td>\n",
       "      <td>4800.0</td>\n",
       "      <td>26</td>\n",
       "      <td>27</td>\n",
       "      <td>22470.0</td>\n",
       "      <td>9.038461538461537</td>\n",
       "      <td>Medium</td>\n",
       "      <td>1</td>\n",
       "      <td>0</td>\n",
       "    </tr>\n",
       "    <tr>\n",
       "      <th>201</th>\n",
       "      <td>-1</td>\n",
       "      <td>95</td>\n",
       "      <td>volvo</td>\n",
       "      <td>turbo</td>\n",
       "      <td>four</td>\n",
       "      <td>sedan</td>\n",
       "      <td>rwd</td>\n",
       "      <td>front</td>\n",
       "      <td>109.1</td>\n",
       "      <td>0.9072561268620856</td>\n",
       "      <td>...</td>\n",
       "      <td>9.5</td>\n",
       "      <td>114.0</td>\n",
       "      <td>5400.0</td>\n",
       "      <td>19</td>\n",
       "      <td>25</td>\n",
       "      <td>22625.0</td>\n",
       "      <td>12.36842105263158</td>\n",
       "      <td>Medium</td>\n",
       "      <td>0</td>\n",
       "      <td>1</td>\n",
       "    </tr>\n",
       "  </tbody>\n",
       "</table>\n",
       "<p>10 rows × 29 columns</p>\n",
       "</div>"
      ],
      "text/plain": [
       "     0    1      2      3     4      5    6      7      8   \\\n",
       "192  -1   74  volvo    std  four  wagon  rwd  front  104.3   \n",
       "193  -2  103  volvo    std  four  sedan  rwd  front  104.3   \n",
       "194  -1   74  volvo    std  four  wagon  rwd  front  104.3   \n",
       "195  -2  103  volvo  turbo  four  sedan  rwd  front  104.3   \n",
       "196  -1   74  volvo  turbo  four  wagon  rwd  front  104.3   \n",
       "197  -1   95  volvo    std  four  sedan  rwd  front  109.1   \n",
       "198  -1   95  volvo  turbo  four  sedan  rwd  front  109.1   \n",
       "199  -1   95  volvo    std  four  sedan  rwd  front  109.1   \n",
       "200  -1   95  volvo  turbo  four  sedan  rwd  front  109.1   \n",
       "201  -1   95  volvo  turbo  four  sedan  rwd  front  109.1   \n",
       "\n",
       "                     9   ...    19     20      21  22  23       24  \\\n",
       "192  0.9072561268620856  ...   9.5  114.0  5400.0  23  28  13415.0   \n",
       "193  0.9072561268620856  ...   9.5  114.0  5400.0  24  28  15985.0   \n",
       "194  0.9072561268620856  ...   9.5  114.0  5400.0  24  28  16515.0   \n",
       "195  0.9072561268620856  ...   7.5  162.0  5100.0  17  22  18420.0   \n",
       "196  0.9072561268620856  ...   7.5  162.0  5100.0  17  22  18950.0   \n",
       "197  0.9072561268620856  ...   9.5  114.0  5400.0  23  28  16845.0   \n",
       "198  0.9072561268620856  ...   8.7  160.0  5300.0  19  25  19045.0   \n",
       "199  0.9072561268620856  ...   8.8  134.0  5500.0  18  23  21485.0   \n",
       "200  0.9072561268620856  ...  23.0  106.0  4800.0  26  27  22470.0   \n",
       "201  0.9072561268620856  ...   9.5  114.0  5400.0  19  25  22625.0   \n",
       "\n",
       "                     25      26 27 28  \n",
       "192  10.217391304347826  Medium  0  1  \n",
       "193   9.791666666666666  Medium  0  1  \n",
       "194   9.791666666666666  Medium  0  1  \n",
       "195  13.823529411764708    High  0  1  \n",
       "196  13.823529411764708    High  0  1  \n",
       "197  10.217391304347826  Medium  0  1  \n",
       "198   12.36842105263158    High  0  1  \n",
       "199  13.055555555555555  Medium  0  1  \n",
       "200   9.038461538461537  Medium  1  0  \n",
       "201   12.36842105263158  Medium  0  1  \n",
       "\n",
       "[10 rows x 29 columns]"
      ]
     },
     "execution_count": 24,
     "metadata": {},
     "output_type": "execute_result"
    }
   ],
   "source": [
    "df.tail(10)"
   ]
  },
  {
   "cell_type": "code",
   "execution_count": 26,
   "id": "a32be127",
   "metadata": {},
   "outputs": [
    {
     "name": "stdout",
     "output_type": "stream",
     "text": [
      "headers\n",
      " ['symboling', 'normalized-losses', 'make', 'fuel-type', 'aspiration', 'num-of-doors', 'body-style', 'drive-wheels', 'engine-location', 'wheel-base', 'length', 'width', 'height', 'curb-weight', 'engine-type', 'num-of-cylinders', 'engine-size', 'fuel-system', 'bore', 'stroke', 'compression-ratio', 'horsepower', 'peak-rpm', 'city-mpg', 'highway-mpg', 'price']\n"
     ]
    }
   ],
   "source": [
    "headers = [\"symboling\",\"normalized-losses\",\"make\",\"fuel-type\",\"aspiration\", \"num-of-doors\",\"body-style\",\n",
    "         \"drive-wheels\",\"engine-location\",\"wheel-base\", \"length\",\"width\",\"height\",\"curb-weight\",\"engine-type\",\n",
    "         \"num-of-cylinders\", \"engine-size\",\"fuel-system\",\"bore\",\"stroke\",\"compression-ratio\",\"horsepower\",\n",
    "         \"peak-rpm\",\"city-mpg\",\"highway-mpg\",\"price\"]\n",
    "print(\"headers\\n\", headers)"
   ]
  },
  {
   "cell_type": "code",
   "execution_count": 16,
   "id": "76bf1383",
   "metadata": {},
   "outputs": [],
   "source": [
    "df1=df.replace('?',np.NaN)"
   ]
  },
  {
   "cell_type": "code",
   "execution_count": null,
   "id": "0348be19",
   "metadata": {},
   "outputs": [],
   "source": [
    "print(df.columns)"
   ]
  },
  {
   "cell_type": "code",
   "execution_count": null,
   "id": "8e839155",
   "metadata": {},
   "outputs": [],
   "source": [
    "df.describe()"
   ]
  },
  {
   "cell_type": "code",
   "execution_count": null,
   "id": "515be579",
   "metadata": {},
   "outputs": [],
   "source": [
    "df.info()"
   ]
  },
  {
   "cell_type": "code",
   "execution_count": null,
   "id": "f6bc8f81",
   "metadata": {},
   "outputs": [],
   "source": [
    "df.describe(include = \"all\")"
   ]
  },
  {
   "cell_type": "code",
   "execution_count": null,
   "id": "5763c5fc",
   "metadata": {},
   "outputs": [],
   "source": [
    "df.to_csv(\"automobile.csv\", index=False)"
   ]
  },
  {
   "cell_type": "code",
   "execution_count": null,
   "id": "3e40efb5",
   "metadata": {},
   "outputs": [],
   "source": [
    "path2 = \"https://archive.ics.uci.edu/ml/machine-learning-databases/autos/imports-85.data?utm_medium=Exinfluencer&utm_source=Exinfluencer&utm_content=000026UJ&utm_term=10006555&utm_id=NA-SkillsNetwork-Channel-SkillsNetworkCoursesIBMDeveloperSkillsNetworkDA0101ENSkillsNetwork20235326-2021-01-01\""
   ]
  },
  {
   "cell_type": "code",
   "execution_count": null,
   "id": "66ec9c81",
   "metadata": {},
   "outputs": [],
   "source": [
    "headers2 = [\"symboling\",\"normalized-losses\",\"make\",\"fuel-type\",\"aspiration\", \"num-of-doors\",\"body-style\",\n",
    "         \"drive-wheels\",\"engine-location\",\"wheel-base\", \"length\",\"width\",\"height\",\"curb-weight\",\"engine-type\",\n",
    "         \"num-of-cylinders\", \"engine-size\",\"fuel-system\",\"bore\",\"stroke\",\"compression-ratio\",\"horsepower\",\n",
    "         \"peak-rpm\",\"city-mpg\",\"highway-mpg\",\"price\"]"
   ]
  },
  {
   "cell_type": "code",
   "execution_count": null,
   "id": "22a64331",
   "metadata": {},
   "outputs": [],
   "source": [
    "df2 = pd.read_csv(path2,names = headers2)"
   ]
  },
  {
   "cell_type": "code",
   "execution_count": null,
   "id": "b39f3bdc",
   "metadata": {},
   "outputs": [],
   "source": [
    "df2.head(5)"
   ]
  },
  {
   "cell_type": "markdown",
   "id": "60fcad39",
   "metadata": {},
   "source": [
    "### Identify and handle the missing data"
   ]
  },
  {
   "cell_type": "code",
   "execution_count": null,
   "id": "bdd7ef46",
   "metadata": {},
   "outputs": [],
   "source": [
    "#Identify missing values\n",
    "#convert ? to NAN\n"
   ]
  },
  {
   "cell_type": "code",
   "execution_count": null,
   "id": "99fc567c",
   "metadata": {},
   "outputs": [],
   "source": [
    "df2.replace(\"?\",np.nan,inplace = True)\n",
    "df.head(5)"
   ]
  },
  {
   "cell_type": "code",
   "execution_count": null,
   "id": "32ced53c",
   "metadata": {},
   "outputs": [],
   "source": [
    "missing_data = df2.isnull()\n",
    "missing_data.head(5)"
   ]
  },
  {
   "cell_type": "code",
   "execution_count": null,
   "id": "9a2473f9",
   "metadata": {},
   "outputs": [],
   "source": [
    "for column in missing_data.columns.values.tolist():\n",
    "    print(column)\n",
    "    print(missing_data[column].value_counts())\n",
    "    print(\"\")"
   ]
  },
  {
   "cell_type": "markdown",
   "id": "7c654dd8",
   "metadata": {},
   "source": [
    "### Dealing with the missing data\n"
   ]
  },
  {
   "cell_type": "code",
   "execution_count": null,
   "id": "6cc49d60",
   "metadata": {},
   "outputs": [],
   "source": [
    "# lets calculate the mean for the normalize column\n",
    "avg_norm_loss = df[\"normalized-losses\"].astype(\"float\").mean(axis=0)\n",
    "print(\"Average of normalize losses:\", avg_norm_loss)"
   ]
  },
  {
   "cell_type": "code",
   "execution_count": null,
   "id": "225cbd5a",
   "metadata": {},
   "outputs": [],
   "source": [
    "df[\"normalized-losses\"].replace(np.nan,avg_norm_loss, inplace = True)"
   ]
  },
  {
   "cell_type": "code",
   "execution_count": null,
   "id": "6e1f3dd8",
   "metadata": {},
   "outputs": [],
   "source": [
    "df['normalized-losses']"
   ]
  },
  {
   "cell_type": "code",
   "execution_count": null,
   "id": "c90b2385",
   "metadata": {},
   "outputs": [],
   "source": [
    "#lets calculate the average of bore column\n",
    "avg_bore = df[\"bore\"].astype('float').mean(axis=0)\n",
    "print(\"Average of bore:\", avg_bore)"
   ]
  },
  {
   "cell_type": "code",
   "execution_count": null,
   "id": "90601173",
   "metadata": {},
   "outputs": [],
   "source": [
    "df[\"bore\"].replace(np.nan, avg_bore, inplace= True)"
   ]
  },
  {
   "cell_type": "code",
   "execution_count": null,
   "id": "43db18af",
   "metadata": {},
   "outputs": [],
   "source": [
    "df[\"bore\"]"
   ]
  },
  {
   "cell_type": "code",
   "execution_count": null,
   "id": "e9af795b",
   "metadata": {},
   "outputs": [],
   "source": [
    "avg_stroke = df[\"stroke\"].astype(\"float\").mean(axis=0)\n",
    "print(\"Average of stroke:\", avg_stroke)"
   ]
  },
  {
   "cell_type": "code",
   "execution_count": null,
   "id": "b9dbb202",
   "metadata": {},
   "outputs": [],
   "source": [
    "df[\"stroke\"].replace(np.nan, avg_stroke, inplace= True)"
   ]
  },
  {
   "cell_type": "code",
   "execution_count": null,
   "id": "9433b358",
   "metadata": {},
   "outputs": [],
   "source": [
    "df[\"stroke\"]"
   ]
  },
  {
   "cell_type": "code",
   "execution_count": null,
   "id": "7600a3ea",
   "metadata": {},
   "outputs": [],
   "source": [
    "avg_horsepower = df[\"horsepower\"].astype('float').mean(axis=0)\n",
    "print(\"Average horsepower:\", avg_horsepower)"
   ]
  },
  {
   "cell_type": "code",
   "execution_count": null,
   "id": "5cf8efbb",
   "metadata": {},
   "outputs": [],
   "source": [
    "df[\"horsepower\"].replace(np.nan, avg_horsepower, inplace=True)"
   ]
  },
  {
   "cell_type": "code",
   "execution_count": null,
   "id": "563eff6c",
   "metadata": {},
   "outputs": [],
   "source": [
    "df[\"horsepower\"]"
   ]
  },
  {
   "cell_type": "code",
   "execution_count": null,
   "id": "8092f654",
   "metadata": {},
   "outputs": [],
   "source": [
    "avg_peak = df[\"peak-rpm\"].astype('float').mean(axis=0)\n",
    "print(\"Average of peak-rpm:\", avg_peak)"
   ]
  },
  {
   "cell_type": "code",
   "execution_count": null,
   "id": "24f13839",
   "metadata": {},
   "outputs": [],
   "source": [
    "df[\"peak-rpm\"].replace(np.nan, avg_peak, inplace=True)"
   ]
  },
  {
   "cell_type": "code",
   "execution_count": null,
   "id": "785d68a3",
   "metadata": {},
   "outputs": [],
   "source": [
    "df[\"peak-rpm\"]"
   ]
  },
  {
   "cell_type": "code",
   "execution_count": null,
   "id": "74671d5c",
   "metadata": {},
   "outputs": [],
   "source": [
    "df[\"num-of-doors\"].value_counts()"
   ]
  },
  {
   "cell_type": "code",
   "execution_count": null,
   "id": "5d7d93f9",
   "metadata": {},
   "outputs": [],
   "source": [
    "df[\"num-of-doors\"].value_counts().idxmax()"
   ]
  },
  {
   "cell_type": "code",
   "execution_count": null,
   "id": "d6cbac0a",
   "metadata": {},
   "outputs": [],
   "source": [
    "df[\"num-of-doors\"].replace(np.nan,\"four\",inplace=True)"
   ]
  },
  {
   "cell_type": "code",
   "execution_count": null,
   "id": "baaa7fb6",
   "metadata": {},
   "outputs": [],
   "source": [
    "df[\"num-of-doors\"].value_counts()"
   ]
  },
  {
   "cell_type": "code",
   "execution_count": null,
   "id": "6aaecea0",
   "metadata": {},
   "outputs": [],
   "source": []
  },
  {
   "cell_type": "code",
   "execution_count": null,
   "id": "1567158d",
   "metadata": {},
   "outputs": [],
   "source": [
    "#lets drop all the rows that are not present in the price\n",
    "df.dropna(subset=[\"price\"],axis=0, inplace=True)\n",
    "df.reset_index(drop=True, inplace=True)"
   ]
  },
  {
   "cell_type": "code",
   "execution_count": null,
   "id": "e0416ff1",
   "metadata": {},
   "outputs": [],
   "source": [
    "df.head()"
   ]
  },
  {
   "cell_type": "markdown",
   "id": "be1cbc2c",
   "metadata": {},
   "source": [
    "### correct the data format"
   ]
  },
  {
   "cell_type": "code",
   "execution_count": null,
   "id": "dad5fc0e",
   "metadata": {},
   "outputs": [],
   "source": [
    "df.dtypes"
   ]
  },
  {
   "cell_type": "code",
   "execution_count": null,
   "id": "e277a45a",
   "metadata": {},
   "outputs": [],
   "source": [
    "df[[\"bore\",\"stroke\"]] = df[[\"bore\",\"stroke\"]].astype(\"float\")"
   ]
  },
  {
   "cell_type": "code",
   "execution_count": null,
   "id": "f04960d4",
   "metadata": {},
   "outputs": [],
   "source": [
    "df[[\"normalized-losses\"]] = df[[\"normalized-losses\"]].astype(\"int\")\n",
    "df[[\"price\"]] = df[[\"price\"]].astype(\"float\")\n",
    "df[[\"peak-rpm\"]]= df[[\"peak-rpm\"]].astype(\"float\")"
   ]
  },
  {
   "cell_type": "code",
   "execution_count": null,
   "id": "e5944a0b",
   "metadata": {},
   "outputs": [],
   "source": [
    "df.dtypes"
   ]
  },
  {
   "cell_type": "code",
   "execution_count": null,
   "id": "69b6e329",
   "metadata": {},
   "outputs": [],
   "source": [
    "df.head()"
   ]
  },
  {
   "cell_type": "code",
   "execution_count": null,
   "id": "07ffe2a7",
   "metadata": {},
   "outputs": [],
   "source": [
    "df[\"city-L/100km\"]= 235/df[\"city-mpg\"]"
   ]
  },
  {
   "cell_type": "code",
   "execution_count": null,
   "id": "3167a03b",
   "metadata": {},
   "outputs": [],
   "source": [
    "df[\"highway-L/100km\"]= 235/df[\"highway-mpg\"]"
   ]
  },
  {
   "cell_type": "code",
   "execution_count": null,
   "id": "36eeaa76",
   "metadata": {},
   "outputs": [],
   "source": [
    "df.head()"
   ]
  },
  {
   "cell_type": "code",
   "execution_count": null,
   "id": "2bc9f3af",
   "metadata": {},
   "outputs": [],
   "source": [
    "df['length'] = df['length']/df['length'].max()\n",
    "df['width'] = df['width']/df['width'].max()"
   ]
  },
  {
   "cell_type": "code",
   "execution_count": null,
   "id": "ff0c2581",
   "metadata": {},
   "outputs": [],
   "source": [
    "df.head()"
   ]
  },
  {
   "cell_type": "code",
   "execution_count": null,
   "id": "8a61f7f6",
   "metadata": {},
   "outputs": [],
   "source": [
    "df['length']"
   ]
  },
  {
   "cell_type": "code",
   "execution_count": null,
   "id": "176fafdb",
   "metadata": {},
   "outputs": [],
   "source": [
    "df['width']"
   ]
  },
  {
   "cell_type": "code",
   "execution_count": null,
   "id": "e7e9a3f1",
   "metadata": {},
   "outputs": [],
   "source": [
    "df['height']= df['height']/df['height'].max()"
   ]
  },
  {
   "cell_type": "code",
   "execution_count": null,
   "id": "1bf10e29",
   "metadata": {},
   "outputs": [],
   "source": [
    "df['height']"
   ]
  },
  {
   "cell_type": "markdown",
   "id": "1f49047f",
   "metadata": {},
   "source": [
    "### Binning"
   ]
  },
  {
   "cell_type": "code",
   "execution_count": null,
   "id": "85d499eb",
   "metadata": {},
   "outputs": [],
   "source": [
    "df['horsepower']=df['horsepower'].astype(int, copy=True)\n"
   ]
  },
  {
   "cell_type": "code",
   "execution_count": null,
   "id": "e245c817",
   "metadata": {},
   "outputs": [],
   "source": [
    "%matplotlib inline\n",
    "import matplotlib as plt\n",
    "from matplotlib import pyplot\n",
    "plt.pyplot.hist(df[\"horsepower\"])\n",
    "\n",
    "#set x/y lables and plot title\n",
    "plt.pyplot.xlabel(\"horsepower\")\n",
    "plt.pyplot.ylabel(\"count\")\n",
    "plt.pyplot.title(\"horsepower bins\")"
   ]
  },
  {
   "cell_type": "code",
   "execution_count": null,
   "id": "75d34724",
   "metadata": {},
   "outputs": [],
   "source": [
    "bins = np.linspace(min(df[\"horsepower\"]),max(df[\"horsepower\"]),4)\n",
    "bins"
   ]
  },
  {
   "cell_type": "code",
   "execution_count": null,
   "id": "08c2cd39",
   "metadata": {},
   "outputs": [],
   "source": [
    "group_names = ['Low','Medium','High']"
   ]
  },
  {
   "cell_type": "code",
   "execution_count": null,
   "id": "3f2d8bf5",
   "metadata": {},
   "outputs": [],
   "source": [
    "df['horsepower-binned'] = pd.cut(df['horsepower'], bins, labels = group_names, include_lowest = True)\n",
    "df[[\"horsepower\",\"horsepower-binned\"]].head(20)"
   ]
  },
  {
   "cell_type": "code",
   "execution_count": null,
   "id": "a38a8a3d",
   "metadata": {},
   "outputs": [],
   "source": [
    "df[\"horsepower-binned\"].value_counts()"
   ]
  },
  {
   "cell_type": "code",
   "execution_count": null,
   "id": "75bfa7ca",
   "metadata": {},
   "outputs": [],
   "source": [
    "%matplotlib inline\n",
    "import matplotlib as plt\n",
    "from matplotlib import pyplot\n",
    "pyplot.bar(group_names, df[\"horsepower-binned\"].value_counts())\n",
    "\n",
    "# set x/y labels and plot title\n",
    "plt.pyplot.xlabel(\"horsepower\")\n",
    "plt.pyplot.ylabel(\"count\")\n",
    "plt.pyplot.title(\"horsepower bins\")"
   ]
  },
  {
   "cell_type": "code",
   "execution_count": null,
   "id": "db866bf6",
   "metadata": {},
   "outputs": [],
   "source": [
    "%matplotlib inline\n",
    "import matplotlib as plt\n",
    "from matplotlib import pyplot\n",
    "\n",
    "\n",
    "# draw historgram of attribute \"horsepower\" with bins = 3\n",
    "plt.pyplot.hist(df[\"horsepower\"], bins = 3)\n",
    "\n",
    "# set x/y labels and plot title\n",
    "plt.pyplot.xlabel(\"horsepower\")\n",
    "plt.pyplot.ylabel(\"count\")\n",
    "plt.pyplot.title(\"horsepower bins\")"
   ]
  },
  {
   "cell_type": "code",
   "execution_count": null,
   "id": "6b12f7a1",
   "metadata": {},
   "outputs": [],
   "source": [
    "df.columns"
   ]
  },
  {
   "cell_type": "code",
   "execution_count": null,
   "id": "55dd0e8f",
   "metadata": {},
   "outputs": [],
   "source": [
    "dummy_variable_1 = pd.get_dummies(df[\"fuel-type\"])\n",
    "dummy_variable_1.head()"
   ]
  },
  {
   "cell_type": "code",
   "execution_count": null,
   "id": "5f91c5f4",
   "metadata": {},
   "outputs": [],
   "source": [
    "dummy_variable_1.rename(columns={'gas':'fuel-type-gas', 'diesel':'fuel-type-diesel'}, inplace=True)\n",
    "dummy_variable_1.head()"
   ]
  },
  {
   "cell_type": "code",
   "execution_count": null,
   "id": "7f66045c",
   "metadata": {},
   "outputs": [],
   "source": [
    "df = pd.concat([df, dummy_variable_1], axis=1)\n",
    "\n",
    "# drop original column \"fuel-type\" from \"df\"\n",
    "df.drop(\"fuel-type\", axis = 1, inplace=True)"
   ]
  },
  {
   "cell_type": "code",
   "execution_count": null,
   "id": "cd705f05",
   "metadata": {},
   "outputs": [],
   "source": [
    "df.head()"
   ]
  },
  {
   "cell_type": "code",
   "execution_count": null,
   "id": "6087967c",
   "metadata": {},
   "outputs": [],
   "source": [
    "# get indicator variables of aspiration and assign it to data frame \"dummy_variable_2\"\n",
    "dummy_variable_2 = pd.get_dummies(df['aspiration'])\n",
    "\n",
    "# change column names for clarity\n",
    "dummy_variable_2.rename(columns={'std':'aspiration-std', 'turbo': 'aspiration-turbo'}, inplace=True)\n",
    "\n",
    "# show first 5 instances of data frame \"dummy_variable_1\"\n",
    "dummy_variable_2.head()\n"
   ]
  },
  {
   "cell_type": "code",
   "execution_count": null,
   "id": "0a094128",
   "metadata": {},
   "outputs": [],
   "source": [
    "# merge the new dataframe to the original datafram\n",
    "df = pd.concat([df, dummy_variable_2], axis=1)\n",
    "\n",
    "# drop original column \"aspiration\" from \"df\"\n",
    "df.drop('aspiration', axis = 1, inplace=True)\n"
   ]
  },
  {
   "cell_type": "code",
   "execution_count": null,
   "id": "fb34332d",
   "metadata": {},
   "outputs": [],
   "source": [
    "df.to_csv('clean_df.csv')"
   ]
  },
  {
   "cell_type": "markdown",
   "id": "2004deb6",
   "metadata": {},
   "source": [
    "### Exploratory DataAnalysis"
   ]
  },
  {
   "cell_type": "markdown",
   "id": "c7745ebe",
   "metadata": {},
   "source": [
    "## Objective-\n",
    "### What are the main characterstics that have most impact on the car price?"
   ]
  },
  {
   "cell_type": "code",
   "execution_count": null,
   "id": "d537bf41",
   "metadata": {},
   "outputs": [],
   "source": [
    "path3 = \"https://cf-courses-data.s3.us.cloud-object-storage.appdomain.cloud/IBMDeveloperSkillsNetwork-DA0101EN-SkillsNetwork/labs/Data%20files/automobileEDA.csv\""
   ]
  },
  {
   "cell_type": "code",
   "execution_count": null,
   "id": "47f3a39e",
   "metadata": {},
   "outputs": [],
   "source": [
    "df3 = pd.read_csv(path3)"
   ]
  },
  {
   "cell_type": "code",
   "execution_count": null,
   "id": "9480bd5f",
   "metadata": {},
   "outputs": [],
   "source": [
    "df3.head()"
   ]
  },
  {
   "cell_type": "markdown",
   "id": "d09cc045",
   "metadata": {},
   "source": [
    "### Analysing Individual feature patterns using visualizations"
   ]
  },
  {
   "cell_type": "code",
   "execution_count": null,
   "id": "1cb4e8a1",
   "metadata": {},
   "outputs": [],
   "source": [
    "import seaborn as sns"
   ]
  },
  {
   "cell_type": "code",
   "execution_count": null,
   "id": "90324650",
   "metadata": {},
   "outputs": [],
   "source": [
    "df3.dtypes"
   ]
  },
  {
   "cell_type": "code",
   "execution_count": null,
   "id": "028f62a4",
   "metadata": {},
   "outputs": [],
   "source": [
    "df3.info()"
   ]
  },
  {
   "cell_type": "code",
   "execution_count": null,
   "id": "3beb9378",
   "metadata": {},
   "outputs": [],
   "source": [
    "df3.columns"
   ]
  },
  {
   "cell_type": "code",
   "execution_count": null,
   "id": "afc2da9a",
   "metadata": {},
   "outputs": [],
   "source": [
    "df3['peak-rpm'].dtypes"
   ]
  },
  {
   "cell_type": "code",
   "execution_count": null,
   "id": "89447ea2",
   "metadata": {},
   "outputs": [],
   "source": [
    "df3.corr()"
   ]
  },
  {
   "cell_type": "code",
   "execution_count": null,
   "id": "df577d27",
   "metadata": {},
   "outputs": [],
   "source": [
    "df3[['bore','stroke','compression-ratio','horsepower']].corr()"
   ]
  },
  {
   "cell_type": "markdown",
   "id": "6438ad95",
   "metadata": {},
   "source": [
    "### Positive Linear Regression"
   ]
  },
  {
   "cell_type": "code",
   "execution_count": null,
   "id": "5113c680",
   "metadata": {},
   "outputs": [],
   "source": [
    "# lets find the scatterplot of engine-size and price\n",
    "\n",
    "sns.regplot(x=\"engine-size\", y=\"price\", data= df3)\n"
   ]
  },
  {
   "cell_type": "code",
   "execution_count": null,
   "id": "c1de9c92",
   "metadata": {},
   "outputs": [],
   "source": [
    "df3[[\"engine-size\",\"price\"]].corr()"
   ]
  },
  {
   "cell_type": "code",
   "execution_count": null,
   "id": "75c4ee6d",
   "metadata": {},
   "outputs": [],
   "source": [
    "sns.regplot(x=\"highway-mpg\", y=\"price\", data= df3)"
   ]
  },
  {
   "cell_type": "code",
   "execution_count": null,
   "id": "4e7927b3",
   "metadata": {},
   "outputs": [],
   "source": [
    "df3[[\"highway-mpg\",\"price\"]].corr()"
   ]
  },
  {
   "cell_type": "code",
   "execution_count": null,
   "id": "c82c396f",
   "metadata": {},
   "outputs": [],
   "source": [
    "sns.regplot(x=\"peak-rpm\",y=\"price\", data = df3)"
   ]
  },
  {
   "cell_type": "code",
   "execution_count": null,
   "id": "3b489172",
   "metadata": {},
   "outputs": [],
   "source": [
    "df3[[\"peak-rpm\",\"price\"]].corr()"
   ]
  },
  {
   "cell_type": "code",
   "execution_count": null,
   "id": "422e60b0",
   "metadata": {},
   "outputs": [],
   "source": [
    "df3[[\"stroke\",\"price\"]].corr()"
   ]
  },
  {
   "cell_type": "code",
   "execution_count": null,
   "id": "cc84be09",
   "metadata": {},
   "outputs": [],
   "source": [
    "sns.regplot(x=\"stroke\",y=\"price\",data=df3)"
   ]
  },
  {
   "cell_type": "code",
   "execution_count": null,
   "id": "c680edcd",
   "metadata": {},
   "outputs": [],
   "source": [
    "sns.boxplot(x=\"body-style\",y=\"price\", data=df3)"
   ]
  },
  {
   "cell_type": "code",
   "execution_count": null,
   "id": "9f1c7780",
   "metadata": {},
   "outputs": [],
   "source": [
    "sns.boxplot(x=\"engine-location\", y=\"price\", data=df3)"
   ]
  },
  {
   "cell_type": "code",
   "execution_count": null,
   "id": "e12ff105",
   "metadata": {},
   "outputs": [],
   "source": [
    "sns.boxplot(x=\"drive-wheels\", y=\"price\", data= df3)"
   ]
  },
  {
   "cell_type": "code",
   "execution_count": null,
   "id": "57513280",
   "metadata": {},
   "outputs": [],
   "source": [
    "df3.describe()"
   ]
  },
  {
   "cell_type": "code",
   "execution_count": null,
   "id": "3711258d",
   "metadata": {},
   "outputs": [],
   "source": [
    "df3.describe(include=['object'])"
   ]
  },
  {
   "cell_type": "code",
   "execution_count": null,
   "id": "15753139",
   "metadata": {},
   "outputs": [],
   "source": [
    "df3['drive-wheels'].value_counts()"
   ]
  },
  {
   "cell_type": "code",
   "execution_count": null,
   "id": "f4df70f4",
   "metadata": {},
   "outputs": [],
   "source": [
    "df3['drive-wheels'].value_counts().to_frame()"
   ]
  },
  {
   "cell_type": "code",
   "execution_count": null,
   "id": "0db710ea",
   "metadata": {},
   "outputs": [],
   "source": [
    "drive_wheels_counts = df3['drive-wheels'].value_counts().to_frame()\n",
    "drive_wheels_counts.rename(columns = {'drive-wheels': 'value_counts'},inplace = True)\n",
    "drive_wheels_counts"
   ]
  },
  {
   "cell_type": "code",
   "execution_count": null,
   "id": "63306349",
   "metadata": {},
   "outputs": [],
   "source": [
    "drive_wheels_counts.index.name = 'drive-wheels'\n",
    "drive_wheels_counts"
   ]
  },
  {
   "cell_type": "code",
   "execution_count": null,
   "id": "70af126b",
   "metadata": {},
   "outputs": [],
   "source": [
    "engine_loc_counts = df3['engine-location'].value_counts().to_frame()\n",
    "engine_loc_counts.rename(columns={'engine-location': 'value_counts'}, inplace=True)\n",
    "engine_loc_counts.index.name = 'engine-location'\n",
    "engine_loc_counts.head(10)"
   ]
  },
  {
   "cell_type": "markdown",
   "id": "9e69ce73",
   "metadata": {},
   "source": [
    "### Grouping the data"
   ]
  },
  {
   "cell_type": "code",
   "execution_count": null,
   "id": "9e435f36",
   "metadata": {},
   "outputs": [],
   "source": [
    "df3['drive-wheels'].unique()"
   ]
  },
  {
   "cell_type": "code",
   "execution_count": null,
   "id": "0c94eb65",
   "metadata": {},
   "outputs": [],
   "source": [
    "df3_group_one= df3[['drive-wheels','body-style','price']]"
   ]
  },
  {
   "cell_type": "code",
   "execution_count": null,
   "id": "6725c467",
   "metadata": {},
   "outputs": [],
   "source": [
    "df3_group_one = df3_group_one.groupby(['drive-wheels'],as_index=False).mean()\n",
    "df3_group_one"
   ]
  },
  {
   "cell_type": "code",
   "execution_count": null,
   "id": "50ec21d3",
   "metadata": {},
   "outputs": [],
   "source": [
    "df3_gptest = df3[['drive-wheels','body-style','price']]\n",
    "group_test1 = df3_gptest.groupby(['drive-wheels','body-style'], as_index = False).mean()\n",
    "group_test1"
   ]
  },
  {
   "cell_type": "code",
   "execution_count": null,
   "id": "12182175",
   "metadata": {
    "scrolled": true
   },
   "outputs": [],
   "source": [
    "grouped_pivot = group_test1.pivot(index = 'drive-wheels', columns = 'body-style')\n",
    "grouped_pivot"
   ]
  },
  {
   "cell_type": "code",
   "execution_count": null,
   "id": "cc22227f",
   "metadata": {},
   "outputs": [],
   "source": [
    "df3_grouptest2 = df3[['body-style','price']]\n",
    "df3_test2 = df3_grouptest2.groupby(['body-style'],as_index= False).mean()\n",
    "df3_test2"
   ]
  },
  {
   "cell_type": "code",
   "execution_count": null,
   "id": "5d8e36be",
   "metadata": {},
   "outputs": [],
   "source": [
    "#import matplotlib as plt\n",
    "#%matplotlib inline\n",
    "import matplotlib\n",
    "matplotlib.use(\"Agg\")\n",
    "import matplotlib.pyplot as plt"
   ]
  },
  {
   "cell_type": "code",
   "execution_count": null,
   "id": "e422e277",
   "metadata": {},
   "outputs": [],
   "source": [
    "plt.pcolor(grouped_pivot, cmap='RdBu')\n",
    "plt.colorbar()\n",
    "plt.show()"
   ]
  },
  {
   "cell_type": "code",
   "execution_count": null,
   "id": "1662d42b",
   "metadata": {
    "scrolled": true
   },
   "outputs": [],
   "source": [
    "fig, ax=plt.subplots()\n",
    "im = ax.pcolor(grouped_pivot, cmap='RdBu')\n",
    "\n",
    "# label names\n",
    "row_labels = grouped_pivot.columns.levels[1]\n",
    "col_labels = grouped_pivot.index\n",
    "\n",
    "#move ticks and label to the center \n",
    "ax.set_xticks(np.arange(grouped_pivot.shape[1]) + 0.5,minor=False)\n",
    "ax.set_yticks(np.arange(grouped_pivot.shape[0]) + 0.5,minor=False)\n",
    "\n",
    "#insert labels\n",
    "ax.set_xticklabels(row_labels, minor=False)\n",
    "ax.set_yticklabels(col_labels, minor=False)\n",
    "\n",
    "#rotate label if too long\n",
    "plt.xticks(rotation =90)\n",
    "\n",
    "fig.colorbar(im)"
   ]
  },
  {
   "cell_type": "markdown",
   "id": "9e83d559",
   "metadata": {},
   "source": [
    "### Pearson Correlation"
   ]
  },
  {
   "cell_type": "code",
   "execution_count": null,
   "id": "471c5cb9",
   "metadata": {},
   "outputs": [],
   "source": [
    "df3.corr()"
   ]
  },
  {
   "cell_type": "code",
   "execution_count": null,
   "id": "5857b506",
   "metadata": {},
   "outputs": [],
   "source": [
    "from scipy import stats"
   ]
  },
  {
   "cell_type": "markdown",
   "id": "574bf6ac",
   "metadata": {},
   "source": [
    "### Wheel-Base vs Price."
   ]
  },
  {
   "cell_type": "code",
   "execution_count": null,
   "id": "6075c1bf",
   "metadata": {},
   "outputs": [],
   "source": [
    "pearson_coef, p_value = stats.pearsonr(df3['wheel-base'],df3['price'])\n",
    "print(\"The pearson corr coeffi is\", pearson_coef, \"with a p-value of p = \",p_value)"
   ]
  },
  {
   "cell_type": "markdown",
   "id": "2b4ab41f",
   "metadata": {},
   "source": [
    "### Horsepower vs price"
   ]
  },
  {
   "cell_type": "code",
   "execution_count": null,
   "id": "61337c57",
   "metadata": {},
   "outputs": [],
   "source": [
    "pearson_coef, p_value = stats.pearsonr(df3['horsepower'],df3['price'])\n",
    "print(\"The pearson corr coeff is\" , pearson_coef, \"with the p-value of p =\",p_value)"
   ]
  },
  {
   "cell_type": "markdown",
   "id": "60ff56c4",
   "metadata": {},
   "source": [
    "### Length vs price"
   ]
  },
  {
   "cell_type": "code",
   "execution_count": null,
   "id": "6957a1d5",
   "metadata": {},
   "outputs": [],
   "source": [
    "pearson_coef, p_value = stats.pearsonr(df3['length'],df3['price'])\n",
    "print(\"The Pearson Correlation Coefficient is\", pearson_coef, \"with a P-value\", p_value)"
   ]
  },
  {
   "cell_type": "markdown",
   "id": "1cdb8e6c",
   "metadata": {},
   "source": [
    "### Width Vs Price"
   ]
  },
  {
   "cell_type": "code",
   "execution_count": null,
   "id": "bb937b8a",
   "metadata": {},
   "outputs": [],
   "source": [
    "pearson_coef, p_value = stats.pearsonr(df3['width'], df3['price'])\n",
    "print(\"The Pearson Correlation Coefficient is\", pearson_coef, \" with a P-value of P =\", p_value ) "
   ]
  },
  {
   "cell_type": "markdown",
   "id": "b1ce5a69",
   "metadata": {},
   "source": [
    "### Curb-weight vs Price"
   ]
  },
  {
   "cell_type": "code",
   "execution_count": null,
   "id": "5c2b040b",
   "metadata": {},
   "outputs": [],
   "source": [
    "pearson_coef, p_value = stats.pearsonr(df3['curb-weight'], df3['price'])\n",
    "print( \"The Pearson Correlation Coefficient is\", pearson_coef, \" with a P-value of P = \", p_value)  "
   ]
  },
  {
   "cell_type": "markdown",
   "id": "69c190d5",
   "metadata": {},
   "source": [
    "### Engine-size vs Price"
   ]
  },
  {
   "cell_type": "code",
   "execution_count": null,
   "id": "90a53169",
   "metadata": {},
   "outputs": [],
   "source": [
    "pearson_coef, p_value = stats.pearsonr(df3['engine-size'], df3['price'])\n",
    "print(\"The Pearson Correlation Coefficient is\", pearson_coef, \" with a P-value of P =\", p_value) "
   ]
  },
  {
   "cell_type": "markdown",
   "id": "c7713e5c",
   "metadata": {},
   "source": [
    "### Bore vs Price"
   ]
  },
  {
   "cell_type": "code",
   "execution_count": null,
   "id": "7263c4e3",
   "metadata": {},
   "outputs": [],
   "source": [
    "pearson_coef, p_value = stats.pearsonr(df3['bore'], df3['price'])\n",
    "print(\"The Pearson Correlation Coefficient is\", pearson_coef, \" with a P-value of P =  \", p_value ) "
   ]
  },
  {
   "cell_type": "markdown",
   "id": "498eac3f",
   "metadata": {},
   "source": [
    "### City-mpg vs price"
   ]
  },
  {
   "cell_type": "code",
   "execution_count": null,
   "id": "4d5a145d",
   "metadata": {},
   "outputs": [],
   "source": [
    "pearson_coef, p_value = stats.pearsonr(df3['city-mpg'], df3['price'])\n",
    "print(\"The Pearson Correlation Coefficient is\", pearson_coef, \" with a P-value of P = \", p_value)  "
   ]
  },
  {
   "cell_type": "markdown",
   "id": "6ed61805",
   "metadata": {},
   "source": [
    "### Highway-mpg vs Price"
   ]
  },
  {
   "cell_type": "code",
   "execution_count": null,
   "id": "b263c1ac",
   "metadata": {},
   "outputs": [],
   "source": [
    "pearson_coef, p_value = stats.pearsonr(df3['highway-mpg'], df3['price'])\n",
    "print( \"The Pearson Correlation Coefficient is\", pearson_coef, \" with a P-value of P = \", p_value ) "
   ]
  },
  {
   "cell_type": "markdown",
   "id": "37865322",
   "metadata": {},
   "source": [
    "## Anova"
   ]
  },
  {
   "cell_type": "markdown",
   "id": "2a3444e3",
   "metadata": {},
   "source": [
    "#### Here anova return two parameters: F-test Score, P-value\n",
    "#### If our price variable is strongly correlated with the variable we are analyzing, we expect that ANOVA to return a sizeable F-test score and a small p-value\n"
   ]
  },
  {
   "cell_type": "markdown",
   "id": "ff8d947f",
   "metadata": {},
   "source": [
    "### Drive Wheels"
   ]
  },
  {
   "cell_type": "code",
   "execution_count": null,
   "id": "6bcb2b08",
   "metadata": {},
   "outputs": [],
   "source": [
    "grouped_test3 =df3_gptest[['drive-wheels','price']].groupby(['drive-wheels'])\n",
    "grouped_test3.head(2)"
   ]
  },
  {
   "cell_type": "code",
   "execution_count": null,
   "id": "8102c40a",
   "metadata": {},
   "outputs": [],
   "source": [
    "df3_gptest"
   ]
  },
  {
   "cell_type": "code",
   "execution_count": null,
   "id": "75eb3f5d",
   "metadata": {},
   "outputs": [],
   "source": [
    "grouped_test3.get_group('4wd')['price']"
   ]
  },
  {
   "cell_type": "code",
   "execution_count": null,
   "id": "ebf8ba6c",
   "metadata": {},
   "outputs": [],
   "source": [
    "# Anova\n",
    "\n",
    "f_val, p_val = stats.f_oneway(grouped_test3.get_group('fwd')['price'],grouped_test3.get_group('rwd')['price'],grouped_test3.get_group('4wd')['price'])\n",
    "print(\"ANOVA results: F=\", f_val, \",P=\",p_val)"
   ]
  },
  {
   "cell_type": "markdown",
   "id": "4e70c7b3",
   "metadata": {},
   "source": [
    "### fwd and rwd"
   ]
  },
  {
   "cell_type": "code",
   "execution_count": null,
   "id": "fb292033",
   "metadata": {},
   "outputs": [],
   "source": [
    "f_val, p_val = stats.f_oneway(grouped_test3.get_group('fwd')['price'], grouped_test3.get_group('rwd')['price'])  \n",
    " \n",
    "print( \"ANOVA results: F=\", f_val, \", P =\", p_val )"
   ]
  },
  {
   "cell_type": "markdown",
   "id": "fb8bf0ef",
   "metadata": {},
   "source": [
    "### 4wd and rwd"
   ]
  },
  {
   "cell_type": "code",
   "execution_count": null,
   "id": "af9aa738",
   "metadata": {},
   "outputs": [],
   "source": [
    "f_val, p_val = stats.f_oneway(grouped_test3.get_group('4wd')['price'], grouped_test3.get_group('rwd')['price'])  \n",
    "   \n",
    "print( \"ANOVA results: F=\", f_val, \", P =\", p_val)   "
   ]
  },
  {
   "cell_type": "markdown",
   "id": "681b7bb1",
   "metadata": {},
   "source": [
    "### 4wd and fwd"
   ]
  },
  {
   "cell_type": "code",
   "execution_count": null,
   "id": "0bcfba40",
   "metadata": {},
   "outputs": [],
   "source": [
    "f_val, p_val = stats.f_oneway(grouped_test3.get_group('4wd')['price'], grouped_test3.get_group('fwd')['price'])  \n",
    " \n",
    "print(\"ANOVA results: F=\", f_val, \", P =\", p_val)   "
   ]
  },
  {
   "cell_type": "markdown",
   "id": "c7c99181",
   "metadata": {},
   "source": [
    "<p>We now have a better idea of what our data looks like and which variables are important to take into account when predicting the car price. We have narrowed it down to the following variables:</p>\n",
    "\n",
    "Continuous numerical variables:\n",
    "\n",
    "<ul>\n",
    "    <li>Length</li>\n",
    "    <li>Width</li>\n",
    "    <li>Curb-weight</li>\n",
    "    <li>Engine-size</li>\n",
    "    <li>Horsepower</li>\n",
    "    <li>City-mpg</li>\n",
    "    <li>Highway-mpg</li>\n",
    "    <li>Wheel-base</li>\n",
    "    <li>Bore</li>\n",
    "</ul>\n",
    "\n",
    "Categorical variables:\n",
    "\n",
    "<ul>\n",
    "    <li>Drive-wheels</li>\n",
    "</ul>\n",
    "\n",
    "<p>As we now move into building machine learning models to automate our analysis, feeding the model with variables that meaningfully affect our target variable will improve our model's prediction performance.</p>\n"
   ]
  },
  {
   "cell_type": "code",
   "execution_count": null,
   "id": "809369e9",
   "metadata": {},
   "outputs": [],
   "source": [
    "df.head()"
   ]
  },
  {
   "cell_type": "markdown",
   "id": "f2038ec4",
   "metadata": {},
   "source": [
    "### Simple linear regression"
   ]
  },
  {
   "cell_type": "markdown",
   "id": "9cc4f7d3",
   "metadata": {},
   "source": [
    "#### linear function :  Yhat = a + bX"
   ]
  },
  {
   "cell_type": "markdown",
   "id": "417272f3",
   "metadata": {},
   "source": [
    "#### a refers to the intercept of the regression line and b refer to the slope of the regression line "
   ]
  },
  {
   "cell_type": "code",
   "execution_count": null,
   "id": "8d558af3",
   "metadata": {},
   "outputs": [],
   "source": [
    "from sklearn.linear_model import LinearRegression"
   ]
  },
  {
   "cell_type": "code",
   "execution_count": null,
   "id": "435bab66",
   "metadata": {},
   "outputs": [],
   "source": [
    "lm = LinearRegression()\n",
    "lm"
   ]
  },
  {
   "cell_type": "markdown",
   "id": "02dc248e",
   "metadata": {},
   "source": [
    "### Let's first find out how could \"highway-mpg\" help us predict car price?"
   ]
  },
  {
   "cell_type": "code",
   "execution_count": null,
   "id": "432736c9",
   "metadata": {},
   "outputs": [],
   "source": [
    "X = df[['highway-mpg']]\n",
    "Y = df[['price']]"
   ]
  },
  {
   "cell_type": "code",
   "execution_count": null,
   "id": "aeb755dc",
   "metadata": {},
   "outputs": [],
   "source": [
    "lm.fit(X,Y)"
   ]
  },
  {
   "cell_type": "code",
   "execution_count": null,
   "id": "f33e0244",
   "metadata": {},
   "outputs": [],
   "source": [
    "Yhat = lm.predict(X)\n",
    "Yhat[0:5]\n"
   ]
  },
  {
   "cell_type": "code",
   "execution_count": null,
   "id": "09f36760",
   "metadata": {},
   "outputs": [],
   "source": [
    "# value of a (intercept)\n",
    "lm.intercept_"
   ]
  },
  {
   "cell_type": "code",
   "execution_count": null,
   "id": "438413b6",
   "metadata": {},
   "outputs": [],
   "source": [
    "# value of b (slope)\n",
    "lm.coef_"
   ]
  },
  {
   "cell_type": "markdown",
   "id": "df8f22dc",
   "metadata": {},
   "source": [
    "<h3>We should get a final linear model with the strcuture:</h3>"
   ]
  },
  {
   "cell_type": "markdown",
   "id": "4be5751f",
   "metadata": {},
   "source": [
    "$$ \n",
    "Yhat = a + b  X\n",
    "$$"
   ]
  },
  {
   "cell_type": "markdown",
   "id": "1bc0b774",
   "metadata": {},
   "source": [
    "<h4>Adding the actual values</h4>"
   ]
  },
  {
   "cell_type": "markdown",
   "id": "c90d1bed",
   "metadata": {},
   "source": [
    "<b>Price</b> = 38423.31 - 821.73 x <b>highway-mpg</b>"
   ]
  },
  {
   "cell_type": "code",
   "execution_count": null,
   "id": "df4d3078",
   "metadata": {},
   "outputs": [],
   "source": [
    "lm1 = LinearRegression()\n",
    "lm1"
   ]
  },
  {
   "cell_type": "code",
   "execution_count": null,
   "id": "9ab5bf39",
   "metadata": {},
   "outputs": [],
   "source": [
    "lm1.fit(df[['engine-size']], df[['price']])\n",
    "lm1"
   ]
  },
  {
   "cell_type": "code",
   "execution_count": null,
   "id": "7eb477b3",
   "metadata": {},
   "outputs": [],
   "source": [
    "lm1.intercept_"
   ]
  },
  {
   "cell_type": "code",
   "execution_count": null,
   "id": "35dd879d",
   "metadata": {},
   "outputs": [],
   "source": [
    "lm1.coef_"
   ]
  },
  {
   "cell_type": "markdown",
   "id": "f723eef7",
   "metadata": {},
   "source": [
    "<h4>Adding the actual value in the linear regression function</h4"
   ]
  },
  {
   "cell_type": "markdown",
   "id": "b2a4094b",
   "metadata": {},
   "source": [
    "<b>Price</b> = -7963.33 + 166.86 x <b>Engine-size</b>"
   ]
  },
  {
   "cell_type": "markdown",
   "id": "396621ce",
   "metadata": {},
   "source": [
    "<h3>Multiple Linear Regression </h3>"
   ]
  },
  {
   "cell_type": "markdown",
   "id": "a8835cb5",
   "metadata": {},
   "source": [
    "$$ \n",
    "Yhat = a + b1X1 + b2X2 + b3X3 + b4X4\n",
    "$$"
   ]
  },
  {
   "cell_type": "code",
   "execution_count": null,
   "id": "6a52049c",
   "metadata": {},
   "outputs": [],
   "source": [
    "Z = df[['horsepower','curb-weight','engine-size','highway-mpg']]"
   ]
  },
  {
   "cell_type": "code",
   "execution_count": null,
   "id": "94bb4611",
   "metadata": {},
   "outputs": [],
   "source": [
    "lm.fit(Z, df['price'])"
   ]
  },
  {
   "cell_type": "code",
   "execution_count": null,
   "id": "b9ead12b",
   "metadata": {},
   "outputs": [],
   "source": [
    "lm.intercept_"
   ]
  },
  {
   "cell_type": "code",
   "execution_count": null,
   "id": "622338f9",
   "metadata": {},
   "outputs": [],
   "source": [
    "lm.coef_"
   ]
  },
  {
   "cell_type": "markdown",
   "id": "319216f4",
   "metadata": {},
   "source": [
    "<h4>Now, we plot our actual values in the equations<h4>"
   ]
  },
  {
   "cell_type": "markdown",
   "id": "009b5b01",
   "metadata": {},
   "source": [
    "<b>Price</b> = -15831.930960 + 53.6624731 x <b>Horsepower</b> + 4.70938694 x <b>curb-weight</b> + 81.44600167 x <b>engine-size</b> + 36.55016267 x <b>highway-mpg</b>"
   ]
  },
  {
   "cell_type": "code",
   "execution_count": null,
   "id": "7ba1b5f6",
   "metadata": {},
   "outputs": [],
   "source": [
    "lm2 = LinearRegression()\n",
    "lm2.fit(df[['normalized-losses','highway-mpg']],df['price'])\n"
   ]
  },
  {
   "cell_type": "code",
   "execution_count": null,
   "id": "9a61a3d5",
   "metadata": {},
   "outputs": [],
   "source": [
    "lm2.intercept_"
   ]
  },
  {
   "cell_type": "code",
   "execution_count": null,
   "id": "1080eae3",
   "metadata": {},
   "outputs": [],
   "source": [
    "lm2.coef_"
   ]
  },
  {
   "cell_type": "markdown",
   "id": "3b679da5",
   "metadata": {},
   "source": [
    "<h3>Model Evaluation using Visualization </h3>"
   ]
  },
  {
   "cell_type": "code",
   "execution_count": null,
   "id": "78929f83",
   "metadata": {},
   "outputs": [],
   "source": [
    "import seaborn as sns\n",
    "%matplotlib inline"
   ]
  },
  {
   "cell_type": "markdown",
   "id": "bcfe04d3",
   "metadata": {},
   "source": [
    "<h3>Regression Plot</h3>"
   ]
  },
  {
   "cell_type": "code",
   "execution_count": null,
   "id": "eec8b602",
   "metadata": {},
   "outputs": [],
   "source": [
    "width = 12\n",
    "height = 10\n",
    "plt.figure(figsize =(width, height))\n",
    "sns.regplot(x ='highway-mpg', y='price', data =df)\n",
    "plt.ylim(0,)"
   ]
  },
  {
   "cell_type": "code",
   "execution_count": null,
   "id": "fb9922a8",
   "metadata": {},
   "outputs": [],
   "source": [
    "plt.figure(figsize=(width, height))\n",
    "sns.regplot(x ='peak-rpm', y= 'price', data =df)\n",
    "plt.ylim(0,)"
   ]
  },
  {
   "cell_type": "code",
   "execution_count": null,
   "id": "b09eadf9",
   "metadata": {},
   "outputs": [],
   "source": [
    "df[['peak-rpm','highway-mpg','price']].corr()"
   ]
  },
  {
   "cell_type": "code",
   "execution_count": null,
   "id": "50797684",
   "metadata": {},
   "outputs": [],
   "source": [
    "width = 12\n",
    "height = 10\n",
    "plt.figure(figsize=(width, height))\n",
    "sns.residplot(x=df['highway-mpg'], y =df['price'])\n",
    "plt.show()"
   ]
  },
  {
   "cell_type": "markdown",
   "id": "08250e8a",
   "metadata": {},
   "source": [
    "<h3>Multiple Linear Regression<h3"
   ]
  },
  {
   "cell_type": "code",
   "execution_count": null,
   "id": "ef475ac5",
   "metadata": {},
   "outputs": [],
   "source": [
    "Y_hat = lm.predict(Z)\n"
   ]
  },
  {
   "cell_type": "code",
   "execution_count": null,
   "id": "e0d2552d",
   "metadata": {},
   "outputs": [],
   "source": [
    "plt.figure(figsize=(width, height))\n",
    "\n",
    "ax1 = sns.distplot(df['price'], hist=False, color ='r', label='Actual Value')\n",
    "sns.distplot(Y_hat, hist=False, color='b', label='Fitted Values', ax=ax1)\n",
    "\n",
    "plt.title('Actual vs Fitted Values for Price')\n",
    "plt.xlabel('price (in dollars)')\n",
    "plt.ylabel('Proportion of Cars')\n",
    "\n",
    "plt.show()\n",
    "plt.close()"
   ]
  },
  {
   "cell_type": "markdown",
   "id": "5c69bdba",
   "metadata": {},
   "source": [
    "<h3>Polynomial Regression</h3>"
   ]
  },
  {
   "cell_type": "markdown",
   "id": "2ce23fea",
   "metadata": {},
   "source": [
    "<center><b>Quadratic - 2nd Order</b></center>\n",
    "$$\n",
    "Yhat = a + b_1 X +b_2 X^2 \n",
    "$$\n",
    "\n",
    "\n",
    "<center><b>Cubic - 3rd Order</b></center>\n",
    "$$\n",
    "Yhat = a + b_1 X +b_2 X^2 +b_3 X^3\\\\\\\\\\\\\\\\\\\\\n",
    "$$\n",
    "\n",
    "\n",
    "<center><b>Higher-Order</b>:</center>\n",
    "$$\n",
    "Y = a + b_1 X +b_2 X^2 +b_3 X^3 ....\\\\\\\\\n",
    "$$\n"
   ]
  },
  {
   "cell_type": "code",
   "execution_count": null,
   "id": "d49a225d",
   "metadata": {},
   "outputs": [],
   "source": [
    "def PlotPolly(model, independent_variable, dependent_variabble, Name):\n",
    "    x_new = np.linspace(15, 55, 100)\n",
    "    y_new = model(x_new)\n",
    "\n",
    "    plt.plot(independent_variable, dependent_variabble, '.', x_new, y_new, '-')\n",
    "    plt.title('Polynomial Fit with Matplotlib for Price ~ Length')\n",
    "    ax = plt.gca()\n",
    "    ax.set_facecolor((0.898, 0.898, 0.898))\n",
    "    fig = plt.gcf()\n",
    "    plt.xlabel(Name)\n",
    "    plt.ylabel('Price of Cars')\n",
    "\n",
    "    plt.show()\n",
    "    plt.close()"
   ]
  },
  {
   "cell_type": "code",
   "execution_count": null,
   "id": "d046f517",
   "metadata": {},
   "outputs": [],
   "source": [
    "x = df['highway-mpg']\n",
    "y = df['price']"
   ]
  },
  {
   "cell_type": "code",
   "execution_count": null,
   "id": "64d3e927",
   "metadata": {},
   "outputs": [],
   "source": [
    "f = np.polyfit(x, y,3)\n",
    "p = np.poly1d(f)\n",
    "print(p)"
   ]
  },
  {
   "cell_type": "code",
   "execution_count": null,
   "id": "115ea7b0",
   "metadata": {},
   "outputs": [],
   "source": [
    "PlotPolly(p, x, y, 'highway-mpg')"
   ]
  },
  {
   "cell_type": "code",
   "execution_count": null,
   "id": "0752d462",
   "metadata": {},
   "outputs": [],
   "source": [
    "np.polyfit(x, y, 3)"
   ]
  },
  {
   "cell_type": "code",
   "execution_count": null,
   "id": "372f7b24",
   "metadata": {},
   "outputs": [],
   "source": [
    "f1 = np.polyfit(x, y, 11)\n",
    "p1 = np.poly1d(f1)\n",
    "print(p1)\n",
    "PlotPolly(p1,x,y, 'Highway Mpg')"
   ]
  },
  {
   "cell_type": "code",
   "execution_count": null,
   "id": "4f91ec64",
   "metadata": {},
   "outputs": [],
   "source": [
    "from sklearn.preprocessing import PolynomialFeatures"
   ]
  },
  {
   "cell_type": "code",
   "execution_count": null,
   "id": "15f138fe",
   "metadata": {},
   "outputs": [],
   "source": [
    "pr = PolynomialFeatures(degree=2)\n",
    "pr"
   ]
  },
  {
   "cell_type": "code",
   "execution_count": null,
   "id": "cb619ed6",
   "metadata": {},
   "outputs": [],
   "source": [
    "Z_pr = pr.fit_transform(Z)"
   ]
  },
  {
   "cell_type": "code",
   "execution_count": null,
   "id": "2f67dfcb",
   "metadata": {},
   "outputs": [],
   "source": [
    "Z.shape"
   ]
  },
  {
   "cell_type": "code",
   "execution_count": null,
   "id": "11e3fe2d",
   "metadata": {},
   "outputs": [],
   "source": [
    "Z_pr.shape"
   ]
  },
  {
   "cell_type": "markdown",
   "id": "d979a98b",
   "metadata": {},
   "source": [
    "<h3>Pipelines</h3>"
   ]
  },
  {
   "cell_type": "code",
   "execution_count": null,
   "id": "51d35ad9",
   "metadata": {},
   "outputs": [],
   "source": [
    "from sklearn.pipeline import Pipeline\n",
    "from sklearn.preprocessing import StandardScaler"
   ]
  },
  {
   "cell_type": "code",
   "execution_count": null,
   "id": "07f7d5a5",
   "metadata": {},
   "outputs": [],
   "source": [
    "Input =[('scale',StandardScaler()), ('polynomial', PolynomialFeatures(include_bias =False)), ('model', LinearRegression())]\n"
   ]
  },
  {
   "cell_type": "code",
   "execution_count": null,
   "id": "573b880f",
   "metadata": {},
   "outputs": [],
   "source": [
    "pipe = Pipeline(Input)\n",
    "pipe"
   ]
  },
  {
   "cell_type": "code",
   "execution_count": null,
   "id": "903a2959",
   "metadata": {},
   "outputs": [],
   "source": [
    "Z = Z.astype(float)\n",
    "pipe.fit(Z,y)"
   ]
  },
  {
   "cell_type": "code",
   "execution_count": null,
   "id": "f69ea5a9",
   "metadata": {},
   "outputs": [],
   "source": [
    "ypipe = pipe.predict(Z)\n",
    "ypipe[0:4]"
   ]
  },
  {
   "cell_type": "markdown",
   "id": "4bdb0627",
   "metadata": {},
   "source": [
    "<h3>Measures for In-Sample Evaluation</h3>\n",
    "<ul>\n",
    "    <li><b>R^2 / R-squared</b></li>\n",
    "    <li><b>Mean Squared Error (MSE)</b></li>\n",
    "</ul>"
   ]
  },
  {
   "cell_type": "markdown",
   "id": "270e6ef3",
   "metadata": {},
   "source": [
    "<h2>Model 1: Simple Linear Regression</h2>"
   ]
  },
  {
   "cell_type": "code",
   "execution_count": null,
   "id": "4a0de94a",
   "metadata": {},
   "outputs": [],
   "source": [
    "#lets calculate for R^2\n",
    "lm.fit(X,Y)\n",
    "print('The R-square is: ', lm.score(X,Y))"
   ]
  },
  {
   "cell_type": "code",
   "execution_count": null,
   "id": "cc3602b1",
   "metadata": {},
   "outputs": [],
   "source": [
    "#lets calculate the mse\n",
    "Yhat =lm.predict(X)\n",
    "print('The ouput of the first four predicted value is: ', Yhat[0:4])"
   ]
  },
  {
   "cell_type": "code",
   "execution_count": null,
   "id": "269c1637",
   "metadata": {},
   "outputs": [],
   "source": [
    "from sklearn.metrics import mean_squared_error"
   ]
  },
  {
   "cell_type": "code",
   "execution_count": null,
   "id": "8febca7e",
   "metadata": {},
   "outputs": [],
   "source": [
    "mse = mean_squared_error(df['price'], Yhat)\n",
    "print('The mean square error of price and predicted value is: ', mse)"
   ]
  },
  {
   "cell_type": "markdown",
   "id": "30aff0f3",
   "metadata": {},
   "source": [
    "<h2>Model 2: Multiple Linear Regression<h2>"
   ]
  },
  {
   "cell_type": "code",
   "execution_count": null,
   "id": "5862cb15",
   "metadata": {},
   "outputs": [],
   "source": [
    "#lets calculate the R^2\n",
    "lm.fit(Z, df['price'])\n",
    "print('The R-square is: ', lm.score(Z, df['price']))"
   ]
  },
  {
   "cell_type": "code",
   "execution_count": null,
   "id": "420cb01f",
   "metadata": {},
   "outputs": [],
   "source": [
    "'Y_predict_multifit = lm.predict(Z)"
   ]
  },
  {
   "cell_type": "code",
   "execution_count": null,
   "id": "81ba305f",
   "metadata": {},
   "outputs": [],
   "source": [
    "print('The mean square error of price and predicted value using multifit is: ', mean_squared_error(df['price'], Y_predict_multifit))"
   ]
  },
  {
   "cell_type": "markdown",
   "id": "a2180bf8",
   "metadata": {},
   "source": [
    "<h2>Model 3: Polynomial Fit<h2>"
   ]
  },
  {
   "cell_type": "code",
   "execution_count": null,
   "id": "82a14516",
   "metadata": {},
   "outputs": [],
   "source": [
    "from sklearn.metrics import r2_score"
   ]
  },
  {
   "cell_type": "code",
   "execution_count": null,
   "id": "e13c6a1c",
   "metadata": {},
   "outputs": [],
   "source": [
    "r_squared = r2_score(y, p(x))\n",
    "print('The R-sqaure value is: ', r_squared)"
   ]
  },
  {
   "cell_type": "code",
   "execution_count": null,
   "id": "aa40e3ea",
   "metadata": {},
   "outputs": [],
   "source": [
    "mean_squared_error(df['price'], p(x))"
   ]
  },
  {
   "cell_type": "markdown",
   "id": "feba9353",
   "metadata": {},
   "source": [
    "<h2> Prediction and Decision Making <h2>"
   ]
  },
  {
   "cell_type": "code",
   "execution_count": null,
   "id": "b9f85a27",
   "metadata": {},
   "outputs": [],
   "source": [
    "#let's predict\n",
    "import matplotlib.pyplot as plt\n",
    "import numpy as np\n",
    "\n",
    "%matplotlib inline\n"
   ]
  },
  {
   "cell_type": "code",
   "execution_count": null,
   "id": "8dc8f745",
   "metadata": {},
   "outputs": [],
   "source": [
    "new_input = np.arange(1, 100, 1).reshape(-1, 1)"
   ]
  },
  {
   "cell_type": "code",
   "execution_count": null,
   "id": "4fa22520",
   "metadata": {},
   "outputs": [],
   "source": [
    "lm.fit(X,Y)\n",
    "lm"
   ]
  },
  {
   "cell_type": "code",
   "execution_count": null,
   "id": "6c92ef58",
   "metadata": {},
   "outputs": [],
   "source": [
    "yhat = lm.predict(new_input)\n",
    "yhat[0:5]"
   ]
  },
  {
   "cell_type": "code",
   "execution_count": null,
   "id": "9678bdc7",
   "metadata": {},
   "outputs": [],
   "source": [
    "plt.plot(new_input, yhat)\n",
    "plt.show()"
   ]
  },
  {
   "cell_type": "markdown",
   "id": "790847f9",
   "metadata": {},
   "source": [
    " <h3>Decision Making: Determining a Good Model Fit</h3>\n",
    " <p>1. When comparing models,<b> the model with the higher R-squared value is a better fit</b> for the data.<br><p>2. When comparing models, <b>the models with the smallest MSE value is a better value.</b></p>"
   ]
  },
  {
   "cell_type": "markdown",
   "id": "61cfb035",
   "metadata": {},
   "source": [
    "<h4>Let's take a look at the values for the different models</h4>\n",
    "<p>Simple Linear Regression: Using Highway-mpg as a Predictor Variable</p>\n",
    "<ul>\n",
    "    <li><b>R-squared: 0.49659118843391</b></li>\n",
    "    <li><b>MSE: 3.16x10^7\n",
    "</ul>\n",
    "<p>Multiple Linear Regression: Using Horsepower, Curb-weight, Engine-size, and Highway-mpg as predictor variable of price.</p>\n",
    "<ul>\n",
    "    <li><b>R-squared: 0.80943904228153</b></li>\n",
    "    <li><b>MSE:1.2x10^2</b></li>\n",
    "</ul>\n",
    "<p>Polynomial fit: Using Highway-mpg as a predictor variable of Price.</p>\n",
    "<ul>\n",
    "    <li><b>R-sqaured: 0.674194666390652</b></li>\n",
    "    <li><b>MSE:2.05x10^7</b></li>\n",
    "</ul>"
   ]
  },
  {
   "cell_type": "markdown",
   "id": "5911a37b",
   "metadata": {},
   "source": [
    "<h2>Conclusion</h2>"
   ]
  },
  {
   "cell_type": "markdown",
   "id": "1dcfa50d",
   "metadata": {},
   "source": [
    "<p>Comparing these three models, we conclude that the <b>the MLR model is the best model </b> to be able to predict from out dataset. This result makes sense since we have 27 variables in total and we know that more than one of the those variable are potential predictors of the final car price.</p>"
   ]
  },
  {
   "cell_type": "markdown",
   "id": "f2fd4005",
   "metadata": {},
   "source": [
    "<h2>Model Evaluation</h2>"
   ]
  },
  {
   "cell_type": "markdown",
   "id": "3894549c",
   "metadata": {},
   "source": [
    "<p>Here we consider 4 things:</p>\n",
    "<ul>\n",
    "    <li><b>1. Model Evaluation</b></li>\n",
    "    <li><b>2. Overfitting, Underfitting and Model Selection</b></li>\n",
    "    <li><b>3. Ridge Regression</b></li>\n",
    "    <li><b>4. Grid Search</b></li>\n",
    "</ul>"
   ]
  },
  {
   "cell_type": "code",
   "execution_count": null,
   "id": "db1d28f7",
   "metadata": {},
   "outputs": [],
   "source": [
    "df.head()"
   ]
  },
  {
   "cell_type": "code",
   "execution_count": null,
   "id": "ebaf1748",
   "metadata": {},
   "outputs": [],
   "source": [
    "df =df._get_numeric_data()\n",
    "df.head()"
   ]
  },
  {
   "cell_type": "code",
   "execution_count": null,
   "id": "c00f8732",
   "metadata": {},
   "outputs": [],
   "source": [
    "from ipywidgets import interact, interactive, fixed, interact_manual"
   ]
  },
  {
   "cell_type": "markdown",
   "id": "4e84039c",
   "metadata": {},
   "source": [
    "<h3> Function for Plotting </h3"
   ]
  },
  {
   "cell_type": "code",
   "execution_count": null,
   "id": "ea7ab399",
   "metadata": {},
   "outputs": [],
   "source": [
    "import matplotlib.pyplot as plt\n",
    "%matplotlib inline\n",
    "import seaborn as sns"
   ]
  },
  {
   "cell_type": "code",
   "execution_count": null,
   "id": "4d3698a1",
   "metadata": {},
   "outputs": [],
   "source": [
    "def distributionPlot(RedFunction, BlueFunction, RedName, BlueName, Title):\n",
    "    width =12\n",
    "    height = 10\n",
    "    plt.figure(figsize=(width, height))\n",
    "    \n",
    "    ax1 = sns.kdeplot(RedFunction, color='r', label=RedName)\n",
    "    ax2 = sns.kdeplot(BlueFunction, color='b', label=BlueName, ax = ax1)\n",
    "    \n",
    "    plt.title(Title)\n",
    "    plt.xlabel('Price (in dollars)')\n",
    "    plt.ylabel('Proportion of Cars')\n",
    "    plt.show()\n",
    "    plt.close()"
   ]
  },
  {
   "cell_type": "code",
   "execution_count": null,
   "id": "3acbc644",
   "metadata": {},
   "outputs": [],
   "source": [
    "def PollyPlot(xtrain, xtest, y_train, y_test, lr, poly_transform):\n",
    "    width = 12\n",
    "    height = 10\n",
    "    plt.figure(figsize=(width, height))\n",
    "    \n",
    "    xmax = max([xtrain.values.max(), xtest.values.max()])\n",
    "    \n",
    "    xmin = min([xtrain.values.min(), xtest.values.min()])\n",
    "    \n",
    "    x=np.arange(xmin, xmax, 0.1)\n",
    "    \n",
    "    plt.plot(xtrain, y_train, 'ro', label='Training Data')\n",
    "    plt.plot(xtest, y_test, 'go', label = 'Test Data')\n",
    "    plt.plot(x, lr.predict(poly_transform.fit_transform(x.reshape(-1, 1))), label='Predicted Function')\n",
    "    plt.ylim([-10000, 60000])\n",
    "    plt.ylabel('Price')\n",
    "    plt.legend()"
   ]
  },
  {
   "cell_type": "markdown",
   "id": "6ad7e1d5",
   "metadata": {},
   "source": [
    "<h4> Part 1: Training and Testing </h4>"
   ]
  },
  {
   "cell_type": "code",
   "execution_count": null,
   "id": "4976a129",
   "metadata": {},
   "outputs": [],
   "source": [
    "y_data = df['price']"
   ]
  },
  {
   "cell_type": "code",
   "execution_count": null,
   "id": "6a7b36e6",
   "metadata": {},
   "outputs": [],
   "source": [
    "x_data = df.drop('price', axis=1)"
   ]
  },
  {
   "cell_type": "code",
   "execution_count": null,
   "id": "dc6f048d",
   "metadata": {},
   "outputs": [],
   "source": [
    "# Now we split our data into training and test data using function train_test_split\n",
    "\n",
    "from sklearn.model_selection import train_test_split\n",
    "\n",
    "x_train, x_test, y_train, y_test = train_test_split(x_data, y_data, test_size=0.10, random_state=1)\n",
    "\n",
    "print(\"Number of test samples : \", x_test.shape[0])\n",
    "print(\"Number of training samples: \", x_train.shape[0])\n"
   ]
  },
  {
   "cell_type": "code",
   "execution_count": null,
   "id": "812aea1c",
   "metadata": {},
   "outputs": [],
   "source": [
    "from sklearn.model_selection import train_test_split\n",
    "\n",
    "x_train1, x_test1, y_train1, y_test1 = train_test_split(x_data, y_data, test_size=0.40, random_state = 0)\n",
    "\n",
    "print(\"Number of test samples: \", x_test1.shape[0])\n",
    "print(\"Number of training samples: \", x_train1.shape[0])"
   ]
  },
  {
   "cell_type": "code",
   "execution_count": null,
   "id": "1531e3e1",
   "metadata": {},
   "outputs": [],
   "source": [
    "# lets import linearregression from the module linear_model\n",
    "\n",
    "from sklearn.linear_model import LinearRegression\n"
   ]
  },
  {
   "cell_type": "code",
   "execution_count": null,
   "id": "e9fbafee",
   "metadata": {},
   "outputs": [],
   "source": [
    "lre = LinearRegression()"
   ]
  },
  {
   "cell_type": "code",
   "execution_count": null,
   "id": "71a869ee",
   "metadata": {},
   "outputs": [],
   "source": [
    "lre.fit(x_train[['horsepower']], y_train)"
   ]
  },
  {
   "cell_type": "code",
   "execution_count": null,
   "id": "3b5d0055",
   "metadata": {},
   "outputs": [],
   "source": [
    "#lets calculate r^2 on the test data\n",
    "\n",
    "lre.score(x_test[['horsepower']], y_test)"
   ]
  },
  {
   "cell_type": "code",
   "execution_count": null,
   "id": "493dee53",
   "metadata": {},
   "outputs": [],
   "source": [
    "lre.score(x_train[['horsepower']], y_train)"
   ]
  },
  {
   "cell_type": "markdown",
   "id": "65b71c72",
   "metadata": {},
   "source": [
    "Here we see that r^2 of test data is smaller as compared to train data"
   ]
  },
  {
   "cell_type": "code",
   "execution_count": null,
   "id": "8e366adb",
   "metadata": {},
   "outputs": [],
   "source": [
    "#lets take the r^2 of 40% of the dataset for testing \n",
    "\n",
    "lre.fit(x_train1[['horsepower']], y_train1)"
   ]
  },
  {
   "cell_type": "code",
   "execution_count": null,
   "id": "63d22230",
   "metadata": {},
   "outputs": [],
   "source": [
    "lre.score(x_test1[['horsepower']], y_test1)"
   ]
  },
  {
   "cell_type": "code",
   "execution_count": null,
   "id": "f1e53030",
   "metadata": {},
   "outputs": [],
   "source": [
    "lre.score(x_train1[['horsepower']], y_train1)"
   ]
  },
  {
   "cell_type": "markdown",
   "id": "53b5bac7",
   "metadata": {},
   "source": [
    "<h3>Cross Validation </h3>"
   ]
  },
  {
   "cell_type": "code",
   "execution_count": null,
   "id": "b5d4320e",
   "metadata": {},
   "outputs": [],
   "source": [
    "from sklearn.model_selection import cross_val_score"
   ]
  },
  {
   "cell_type": "code",
   "execution_count": null,
   "id": "c9abb52e",
   "metadata": {},
   "outputs": [],
   "source": [
    "Rcross = cross_val_score(lre, x_data[['horsepower']], y_data,cv=4 )\n",
    "Rcross"
   ]
  },
  {
   "cell_type": "code",
   "execution_count": null,
   "id": "13db0f8b",
   "metadata": {},
   "outputs": [],
   "source": [
    "print(\"The mean of the folds are: \", Rcross.mean(), \"and the standard deviation: \", Rcross.std())"
   ]
  },
  {
   "cell_type": "code",
   "execution_count": null,
   "id": "f15e6d72",
   "metadata": {},
   "outputs": [],
   "source": [
    "-1 * cross_val_score(lre, x_data[['horsepower']], y_data,cv=4, scoring='neg_mean_squared_error')"
   ]
  },
  {
   "cell_type": "code",
   "execution_count": null,
   "id": "da7c243e",
   "metadata": {},
   "outputs": [],
   "source": [
    "Rc = cross_val_score(lre, x_data[['horsepower']], y_data, cv=2)\n",
    "Rc\n",
    "Rc.mean()"
   ]
  },
  {
   "cell_type": "code",
   "execution_count": null,
   "id": "45fdd3d9",
   "metadata": {},
   "outputs": [],
   "source": [
    "from sklearn.model_selection import cross_val_predict\n"
   ]
  },
  {
   "cell_type": "code",
   "execution_count": null,
   "id": "a311ea34",
   "metadata": {},
   "outputs": [],
   "source": [
    "yhat = cross_val_predict(lre, x_data[['horsepower']], y_data, cv=4)\n",
    "yhat[0:4]"
   ]
  },
  {
   "cell_type": "markdown",
   "id": "8c7bbd58",
   "metadata": {},
   "source": [
    "<h3>Part 2: Overfitting , Underfitting and Model Selection </h3>"
   ]
  },
  {
   "cell_type": "code",
   "execution_count": null,
   "id": "e4332a5a",
   "metadata": {},
   "outputs": [],
   "source": [
    "#Let's create Multiple Linear Regression objects and train the model using 'horspower', 'curb-weight', 'engine-size', 'highway-mpg'\n",
    "\n",
    "lr = LinearRegression()\n",
    "lr.fit(x_train[['horsepower', 'curb-weight', 'engine-size', 'highway-mpg']], y_train)\n"
   ]
  },
  {
   "cell_type": "markdown",
   "id": "3f0042c6",
   "metadata": {},
   "source": [
    "Prediction using training data\n"
   ]
  },
  {
   "cell_type": "code",
   "execution_count": null,
   "id": "b9139424",
   "metadata": {},
   "outputs": [],
   "source": [
    "yhat_train = lr.predict(x_train[['horsepower','curb-weight','engine-size','highway-mpg']])\n",
    "yhat_train[0:5]"
   ]
  },
  {
   "cell_type": "markdown",
   "id": "48118470",
   "metadata": {},
   "source": [
    "Prediction using test data"
   ]
  },
  {
   "cell_type": "code",
   "execution_count": null,
   "id": "f403cafa",
   "metadata": {},
   "outputs": [],
   "source": [
    "yhat_test = lr.predict(x_test[['horsepower', 'curb-weight', 'engine-size', 'highway-mpg']])\n",
    "yhat_test[0:5]"
   ]
  },
  {
   "cell_type": "code",
   "execution_count": null,
   "id": "81f80549",
   "metadata": {},
   "outputs": [],
   "source": [
    "#lets examine the predicted values of the data seperately\n",
    "\n",
    "Title = 'Distribution Plot of Predicted Value Using Training Data vs Training Data Distribution' \n",
    "distributionPlot(y_train, yhat_train, \"Actual Values (Train)\",\"Predicted Values (Train)\", Title)\n",
    "            "
   ]
  },
  {
   "cell_type": "markdown",
   "id": "748ea9f4",
   "metadata": {},
   "source": [
    "Here, the model seems to be doing well in learning the training dataset.Lets see how model perform in testing dataset. "
   ]
  },
  {
   "cell_type": "code",
   "execution_count": null,
   "id": "5524c912",
   "metadata": {},
   "outputs": [],
   "source": [
    "Title = 'Distribution Plot of Predicted Value Using Test Data vs Data Distribution of the test Data'\n",
    "distributionPlot(y_test, yhat_test, \"Actual Values(Test)\", \"Predicted Values(Test)\", Title)"
   ]
  },
  {
   "cell_type": "code",
   "execution_count": null,
   "id": "b8d7edab",
   "metadata": {},
   "outputs": [],
   "source": [
    "from sklearn.preprocessing import PolynomialFeatures\n"
   ]
  },
  {
   "cell_type": "markdown",
   "id": "5279e587",
   "metadata": {},
   "source": [
    "<h3>Overfitting</h3>"
   ]
  },
  {
   "cell_type": "code",
   "execution_count": null,
   "id": "dc31e752",
   "metadata": {},
   "outputs": [],
   "source": [
    "x_train, x_test, y_train, y_test = train_test_split(x_data, y_data, test_size = 0.45, random_state = 0)"
   ]
  },
  {
   "cell_type": "code",
   "execution_count": null,
   "id": "4e857c11",
   "metadata": {},
   "outputs": [],
   "source": [
    "pr = PolynomialFeatures(degree = 5)\n",
    "x_train_pr = pr.fit_transform(x_train[['horsepower']])\n",
    "x_test_pr = pr.fit_transform(x_test[['horsepower']])\n",
    "pr"
   ]
  },
  {
   "cell_type": "code",
   "execution_count": null,
   "id": "e1bf16e3",
   "metadata": {},
   "outputs": [],
   "source": [
    "poly = LinearRegression()\n",
    "poly.fit(x_train_pr, y_train)"
   ]
  },
  {
   "cell_type": "code",
   "execution_count": null,
   "id": "89dcb044",
   "metadata": {},
   "outputs": [],
   "source": [
    "yhat = poly.predict(x_test_pr)\n",
    "yhat[0:5]"
   ]
  },
  {
   "cell_type": "code",
   "execution_count": null,
   "id": "62f5f076",
   "metadata": {},
   "outputs": [],
   "source": [
    "print(\"Predicted values: \", yhat[0:4])\n",
    "print(\"True Values: \", y_test[0:4].values)"
   ]
  },
  {
   "cell_type": "code",
   "execution_count": null,
   "id": "763132a0",
   "metadata": {},
   "outputs": [],
   "source": [
    "PollyPlot(x_train['horsepower'], x_test['horsepower'], y_train, y_test, poly, pr)"
   ]
  },
  {
   "cell_type": "markdown",
   "id": "8a4c8823",
   "metadata": {},
   "source": [
    "Here in this figure: A Polynomial model where the red dots represents the training data, green dot represents the test data, and the blue line represents the model prediction . We see that the estimated function appears to track the data but around 200 horsepower, the function begins to diverge from the data points."
   ]
  },
  {
   "cell_type": "code",
   "execution_count": null,
   "id": "7dd68678",
   "metadata": {},
   "outputs": [],
   "source": [
    "# r^2 of the training data \n",
    "poly.score(x_train_pr, y_train)"
   ]
  },
  {
   "cell_type": "code",
   "execution_count": null,
   "id": "e4d39142",
   "metadata": {},
   "outputs": [],
   "source": [
    "#r^2 of the test data\n",
    "poly.score(x_test_pr, y_test)"
   ]
  },
  {
   "cell_type": "markdown",
   "id": "17dde2de",
   "metadata": {},
   "source": [
    "Here we see that the r^2 for the training data is 0.5571 while the r^2 on the test data was -29.6252. The lower the r^2, the worse the model. A negative r^2 is a sign of overfitting."
   ]
  },
  {
   "cell_type": "code",
   "execution_count": null,
   "id": "19c8e83f",
   "metadata": {},
   "outputs": [],
   "source": [
    "Rsqu_test = []\n",
    "\n",
    "order = [1,2,3,4]\n",
    "for n in order:\n",
    "    pr = PolynomialFeatures(degree=n)\n",
    "    \n",
    "    x_train_pr = pr.fit_transform(x_train[['horsepower']])\n",
    "    \n",
    "    x_test_pr = pr.fit_transform(x_test[['horsepower']])\n",
    "    \n",
    "    lr.fit(x_train_pr, y_train)\n",
    "    \n",
    "    Rsqu_test.append(lr.score(x_test_pr, y_test))\n",
    "    \n",
    "plt.plot(order, Rsqu_test)\n",
    "plt.xlabel('order')\n",
    "plt.ylabel('R^2')\n",
    "plt.title(\"R^2 Using Test Data\")\n",
    "plt.text(3, 0.75, 'Maximum R^2')\n",
    "    "
   ]
  },
  {
   "cell_type": "code",
   "execution_count": null,
   "id": "ce32c796",
   "metadata": {},
   "outputs": [],
   "source": [
    "pr1 = PolynomialFeatures(degree=2)"
   ]
  },
  {
   "cell_type": "code",
   "execution_count": null,
   "id": "d3788b1f",
   "metadata": {},
   "outputs": [],
   "source": [
    "x_train_pr1 = pr1.fit_transform(x_train[['horsepower', 'curb-weight', 'engine-size','highway-mpg']])\n",
    "\n",
    "x_test_pr1 = pr1.fit_transform(x_test[['horsepower','curb-weight', 'engine-size', 'highway-mpg']])"
   ]
  },
  {
   "cell_type": "code",
   "execution_count": null,
   "id": "9dce2431",
   "metadata": {},
   "outputs": [],
   "source": [
    "x_train_pr1.shape"
   ]
  },
  {
   "cell_type": "code",
   "execution_count": null,
   "id": "757b7fdb",
   "metadata": {},
   "outputs": [],
   "source": [
    "poly1 = LinearRegression()\n",
    "poly1.fit(x_train_pr1, y_train)"
   ]
  },
  {
   "cell_type": "code",
   "execution_count": null,
   "id": "61566012",
   "metadata": {},
   "outputs": [],
   "source": [
    "yhat_test1 = poly1.predict(x_test_pr1)\n",
    "yhat[0:5]"
   ]
  },
  {
   "cell_type": "code",
   "execution_count": null,
   "id": "caefcfc2",
   "metadata": {},
   "outputs": [],
   "source": [
    "Title = 'Distribution Plot of Predicted Value Using Test Data vs Test Data Distribution' \n",
    "distributionPlot(y_test, yhat_test1, \"Actual Values (Test)\",\"Predicted Values (Test)\", Title)\n",
    "            "
   ]
  },
  {
   "cell_type": "markdown",
   "id": "b090da16",
   "metadata": {},
   "source": [
    "Figure: The Predicted value is higher than the actual value for cars where the price 10,000 range, while the predicted price is lower than the price cost in the 30,000 to 40,000 range. As such the model is not as accurate in these ranges."
   ]
  },
  {
   "cell_type": "markdown",
   "id": "231a1895",
   "metadata": {},
   "source": [
    "<h3> Part3: Ridge Regression </h3>"
   ]
  },
  {
   "cell_type": "code",
   "execution_count": null,
   "id": "78b0800f",
   "metadata": {},
   "outputs": [],
   "source": [
    "pr = PolynomialFeatures(degree=2)\n",
    "x_train_pr  =pr.fit_transform(x_train[['horsepower','curb-weight','engine-size','highway-mpg','normalized-losses','symboling']])\n",
    "\n",
    "x_test_pr = pr.fit_transform(x_test[['horsepower','curb-weight','engine-size','highway-mpg','normalized-losses','symboling']])"
   ]
  },
  {
   "cell_type": "code",
   "execution_count": null,
   "id": "7460d4aa",
   "metadata": {},
   "outputs": [],
   "source": [
    "from sklearn.linear_model import Ridge"
   ]
  },
  {
   "cell_type": "code",
   "execution_count": null,
   "id": "8df4c0fe",
   "metadata": {},
   "outputs": [],
   "source": [
    "RigeModel=Ridge(alpha=1)"
   ]
  },
  {
   "cell_type": "code",
   "execution_count": null,
   "id": "a2757399",
   "metadata": {},
   "outputs": [],
   "source": [
    "RigeModel.fit(x_train_pr, y_train)"
   ]
  },
  {
   "cell_type": "code",
   "execution_count": null,
   "id": "e5b6418d",
   "metadata": {},
   "outputs": [],
   "source": [
    "yhat = RigeModel.predict(x_test_pr)"
   ]
  },
  {
   "cell_type": "code",
   "execution_count": null,
   "id": "f44f8eea",
   "metadata": {},
   "outputs": [],
   "source": [
    "print(\"Predicted: \", yhat[0:4])\n",
    "print(\"Test Set:\", y_test[0:4].values)"
   ]
  },
  {
   "cell_type": "code",
   "execution_count": null,
   "id": "bf8327bf",
   "metadata": {},
   "outputs": [],
   "source": [
    "from tqdm import tqdm\n",
    "\n",
    "Rsqu_test = []\n",
    "Rsqu_train = []\n",
    "dummy1 =[]\n",
    "Alpha = 10*np.array(range(0,1000))\n",
    "pbar = tqdm(Alpha)\n",
    "\n",
    "for alpha in pbar:\n",
    "    RigeModel = Ridge(alpha = alpha)\n",
    "    RigeModel.fit(x_train_pr, y_train)\n",
    "    test_score, train_score = RigeModel.score(x_test_pr, y_test),RigeModel.score(x_train_pr, y_train)\n",
    "    \n",
    "    pbar.set_postfix({\"Test Score\": test_score, \"Train Score\":train_score })\n",
    "    \n",
    "    Rsqu_test.append(test_score)\n",
    "    Rsqu_train.append(train_score)\n",
    "    \n",
    "    \n",
    "    \n",
    "    "
   ]
  },
  {
   "cell_type": "code",
   "execution_count": null,
   "id": "d2e0c8b5",
   "metadata": {},
   "outputs": [],
   "source": [
    "width = 12\n",
    "height = 10\n",
    "plt.figure(figsize=(width, height))\n",
    "\n",
    "plt.plot(Alpha, Rsqu_test, label='validation data')\n",
    "plt.plot(Alpha, Rsqu_train, 'r', label = 'training data')\n",
    "plt.xlabel('alpha')\n",
    "plt.ylabel('R^2')\n",
    "plt.legend()"
   ]
  },
  {
   "cell_type": "code",
   "execution_count": null,
   "id": "2633a08a",
   "metadata": {},
   "outputs": [],
   "source": [
    "RigeModel = Ridge(alpha=10)\n",
    "RigeModel.fit(x_train_pr, y_train)\n",
    "RigeModel.score(x_test_pr, y_test)"
   ]
  },
  {
   "cell_type": "markdown",
   "id": "b8d01bca",
   "metadata": {},
   "source": [
    "<h3>Grid Search </h3>"
   ]
  },
  {
   "cell_type": "code",
   "execution_count": null,
   "id": "3b29555b",
   "metadata": {},
   "outputs": [],
   "source": [
    "from sklearn.model_selection import GridSearchCV"
   ]
  },
  {
   "cell_type": "code",
   "execution_count": null,
   "id": "851b3506",
   "metadata": {},
   "outputs": [],
   "source": [
    "parameters1 = [{'alpha': [0.001, 0.1, 1, 10, 100, 1000, 10000, 100000]}]\n",
    "parameters1"
   ]
  },
  {
   "cell_type": "code",
   "execution_count": null,
   "id": "dc0cc6d7",
   "metadata": {},
   "outputs": [],
   "source": [
    "RR = Ridge()\n",
    "RR"
   ]
  },
  {
   "cell_type": "code",
   "execution_count": null,
   "id": "1677808b",
   "metadata": {},
   "outputs": [],
   "source": [
    "Grid1 = GridSearchCV(RR, parameters1, cv=4)"
   ]
  },
  {
   "cell_type": "code",
   "execution_count": null,
   "id": "ab0cb58d",
   "metadata": {},
   "outputs": [],
   "source": [
    "Grid1.fit(x_data[['horsepower','curb-weight','engine-size','highway-mpg']],y_data)"
   ]
  },
  {
   "cell_type": "code",
   "execution_count": null,
   "id": "d034c677",
   "metadata": {},
   "outputs": [],
   "source": [
    "BestRR = Grid1.best_estimator_\n",
    "BestRR"
   ]
  },
  {
   "cell_type": "code",
   "execution_count": null,
   "id": "df6a89c7",
   "metadata": {},
   "outputs": [],
   "source": [
    "BestRR.score(x_test[['horsepower','curb-weight','engine-size','highway-mpg']], y_test)"
   ]
  },
  {
   "cell_type": "code",
   "execution_count": null,
   "id": "2c0191c2",
   "metadata": {},
   "outputs": [],
   "source": [
    "parameters2 = [{'alpha': [0.001, 0.1, 1, 10, 100, 1000, 10000, 100000, 100000]}]\n",
    "\n",
    "Grid2 = GridSearchCV(Ridge(), parameters2, cv=4)\n",
    "Grid2.fit(x_data[['horsepower', 'curb-weight', 'engine-size', 'highway-mpg']], y_data)\n",
    "best_alpha = Grid2.best_params_['alpha']\n",
    "best_ridge_model = Ridge(alpha=best_alpha)\n",
    "best_ridge_model.fit(x_data[['horsepower', 'curb-weight', 'engine-size', 'highway-mpg']], y_data)"
   ]
  },
  {
   "cell_type": "code",
   "execution_count": null,
   "id": "e3cf2771",
   "metadata": {},
   "outputs": [],
   "source": []
  },
  {
   "cell_type": "code",
   "execution_count": null,
   "id": "87d3d10b",
   "metadata": {},
   "outputs": [],
   "source": []
  }
 ],
 "metadata": {
  "kernelspec": {
   "display_name": "Python 3 (ipykernel)",
   "language": "python",
   "name": "python3"
  },
  "language_info": {
   "codemirror_mode": {
    "name": "ipython",
    "version": 3
   },
   "file_extension": ".py",
   "mimetype": "text/x-python",
   "name": "python",
   "nbconvert_exporter": "python",
   "pygments_lexer": "ipython3",
   "version": "3.9.7"
  }
 },
 "nbformat": 4,
 "nbformat_minor": 5
}
